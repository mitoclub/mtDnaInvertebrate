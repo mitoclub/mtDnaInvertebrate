{
 "cells": [
  {
   "cell_type": "code",
   "execution_count": 1,
   "metadata": {},
   "outputs": [],
   "source": [
    "from Bio import SeqIO"
   ]
  },
  {
   "cell_type": "code",
   "execution_count": 2,
   "metadata": {},
   "outputs": [
    {
     "name": "stderr",
     "output_type": "stream",
     "text": [
      "<ipython-input-2-bc9ee0b576e8>:1: DeprecationWarning: 'U' mode is deprecated\n",
      "  with open(r\"C:\\Users\\PC\\Desktop\\MitoClub\\mtDnaInvertebrate\\Body\\1Raw\\mitochondrion.genomic.gbff\", \"rU\") as input_handle:\n",
      "C:\\Users\\PC\\AppData\\Local\\Packages\\PythonSoftwareFoundation.Python.3.8_qbz5n2kfra8p0\\LocalCache\\local-packages\\Python38\\site-packages\\Bio\\GenBank\\Scanner.py:1806: BiopythonParserWarning: Structured comment not parsed for NC_037498. Is it malformed?\n",
      "  warnings.warn(\n",
      "C:\\Users\\PC\\AppData\\Local\\Packages\\PythonSoftwareFoundation.Python.3.8_qbz5n2kfra8p0\\LocalCache\\local-packages\\Python38\\site-packages\\Bio\\GenBank\\Scanner.py:1806: BiopythonParserWarning: Structured comment not parsed for NC_037499. Is it malformed?\n",
      "  warnings.warn(\n",
      "C:\\Users\\PC\\AppData\\Local\\Packages\\PythonSoftwareFoundation.Python.3.8_qbz5n2kfra8p0\\LocalCache\\local-packages\\Python38\\site-packages\\Bio\\GenBank\\Scanner.py:1806: BiopythonParserWarning: Structured comment not parsed for NC_037500. Is it malformed?\n",
      "  warnings.warn(\n"
     ]
    },
    {
     "name": "stdout",
     "output_type": "stream",
     "text": [
      "Converted 10664 records\n"
     ]
    }
   ],
   "source": [
    "with open(r\"C:\\Users\\PC\\Desktop\\MitoClub\\mtDnaInvertebrate\\Body\\1Raw\\mitochondrion.genomic.gbff\", \"rU\") as input_handle:\n",
    "    with open(r\"C:\\Users\\PC\\Desktop\\MitoClub\\mtDnaInvertebrate\\Body\\1Raw\\mitochondrion.genomic.fasta\", \"w\") as output_handle:\n",
    "        sequences = SeqIO.parse(input_handle, \"genbank\")\n",
    "        count = SeqIO.write(sequences, output_handle, \"fasta\")\n",
    "\n",
    "print(\"Converted %i records\" % count)"
   ]
  }
 ],
 "metadata": {
  "kernelspec": {
   "display_name": "Python 3",
   "language": "python",
   "name": "python3"
  },
  "language_info": {
   "codemirror_mode": {
    "name": "ipython",
    "version": 3
   },
   "file_extension": ".py",
   "mimetype": "text/x-python",
   "name": "python",
   "nbconvert_exporter": "python",
   "pygments_lexer": "ipython3",
   "version": "3.8.6"
  }
 },
 "nbformat": 4,
 "nbformat_minor": 4
}
