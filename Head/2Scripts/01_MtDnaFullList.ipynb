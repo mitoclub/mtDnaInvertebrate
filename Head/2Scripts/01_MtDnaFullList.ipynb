{
 "cells": [
  {
   "cell_type": "code",
   "execution_count": 3,
   "metadata": {},
   "outputs": [],
   "source": [
    "import pandas as pd\n",
    "import Bio as bio\n",
    "from Bio import SeqIO\n",
    "from Bio import GenBank"
   ]
  },
  {
   "cell_type": "code",
   "execution_count": 13,
   "metadata": {},
   "outputs": [],
   "source": [
    "import re"
   ]
  },
  {
   "cell_type": "code",
   "execution_count": 40,
   "metadata": {},
   "outputs": [
    {
     "name": "stdout",
     "output_type": "stream",
     "text": [
      "1.77\n"
     ]
    }
   ],
   "source": [
    "print (bio.__version__)"
   ]
  },
  {
   "cell_type": "code",
   "execution_count": 41,
   "metadata": {},
   "outputs": [],
   "source": [
    "ids = [seq_record.id for seq_record in SeqIO.parse(r\"C:\\Users\\PC\\Desktop\\MitoClub\\mtDnaInvertebrate\\Body\\1Raw\\mitochondrion.1.genomic.gbff\", \"genbank\")]"
   ]
  },
  {
   "cell_type": "code",
   "execution_count": 42,
   "metadata": {},
   "outputs": [
    {
     "name": "stdout",
     "output_type": "stream",
     "text": [
      "7439\n"
     ]
    }
   ],
   "source": [
    "print(len(ids))"
   ]
  },
  {
   "cell_type": "code",
   "execution_count": 43,
   "metadata": {},
   "outputs": [],
   "source": [
    "d = {\"RefSeqID\":pd.Series(ids, index=range(1,7440))}\n",
    "MtDnaList1 = pd.DataFrame(d)"
   ]
  },
  {
   "cell_type": "code",
   "execution_count": 44,
   "metadata": {},
   "outputs": [
    {
     "data": {
      "text/html": [
       "<div>\n",
       "<style scoped>\n",
       "    .dataframe tbody tr th:only-of-type {\n",
       "        vertical-align: middle;\n",
       "    }\n",
       "\n",
       "    .dataframe tbody tr th {\n",
       "        vertical-align: top;\n",
       "    }\n",
       "\n",
       "    .dataframe thead th {\n",
       "        text-align: right;\n",
       "    }\n",
       "</style>\n",
       "<table border=\"1\" class=\"dataframe\">\n",
       "  <thead>\n",
       "    <tr style=\"text-align: right;\">\n",
       "      <th></th>\n",
       "      <th>RefSeqID</th>\n",
       "    </tr>\n",
       "  </thead>\n",
       "  <tbody>\n",
       "    <tr>\n",
       "      <th>1</th>\n",
       "      <td>NC_012975.1</td>\n",
       "    </tr>\n",
       "    <tr>\n",
       "      <th>2</th>\n",
       "      <td>NC_012976.1</td>\n",
       "    </tr>\n",
       "    <tr>\n",
       "      <th>3</th>\n",
       "      <td>NC_012979.1</td>\n",
       "    </tr>\n",
       "    <tr>\n",
       "      <th>4</th>\n",
       "      <td>NC_014671.1</td>\n",
       "    </tr>\n",
       "    <tr>\n",
       "      <th>5</th>\n",
       "      <td>NC_012981.1</td>\n",
       "    </tr>\n",
       "  </tbody>\n",
       "</table>\n",
       "</div>"
      ],
      "text/plain": [
       "      RefSeqID\n",
       "1  NC_012975.1\n",
       "2  NC_012976.1\n",
       "3  NC_012979.1\n",
       "4  NC_014671.1\n",
       "5  NC_012981.1"
      ]
     },
     "execution_count": 44,
     "metadata": {},
     "output_type": "execute_result"
    }
   ],
   "source": [
    "MtDnaList1.head()"
   ]
  },
  {
   "cell_type": "code",
   "execution_count": 45,
   "metadata": {},
   "outputs": [
    {
     "name": "stderr",
     "output_type": "stream",
     "text": [
      "C:\\Users\\PC\\AppData\\Local\\Packages\\PythonSoftwareFoundation.Python.3.8_qbz5n2kfra8p0\\LocalCache\\local-packages\\Python38\\site-packages\\Bio\\GenBank\\Scanner.py:1806: BiopythonParserWarning: Structured comment not parsed for NC_037498. Is it malformed?\n",
      "  warnings.warn(\n",
      "C:\\Users\\PC\\AppData\\Local\\Packages\\PythonSoftwareFoundation.Python.3.8_qbz5n2kfra8p0\\LocalCache\\local-packages\\Python38\\site-packages\\Bio\\GenBank\\Scanner.py:1806: BiopythonParserWarning: Structured comment not parsed for NC_037499. Is it malformed?\n",
      "  warnings.warn(\n",
      "C:\\Users\\PC\\AppData\\Local\\Packages\\PythonSoftwareFoundation.Python.3.8_qbz5n2kfra8p0\\LocalCache\\local-packages\\Python38\\site-packages\\Bio\\GenBank\\Scanner.py:1806: BiopythonParserWarning: Structured comment not parsed for NC_037500. Is it malformed?\n",
      "  warnings.warn(\n"
     ]
    }
   ],
   "source": [
    "MtDnaList1['SpeciesNames'] = [seq_record.annotations[\"organism\"] for seq_record in SeqIO.parse(r\"C:\\Users\\PC\\Desktop\\MitoClub\\mtDnaInvertebrate\\Body\\1Raw\\mitochondrion.1.genomic.gbff\", \"genbank\")]"
   ]
  },
  {
   "cell_type": "code",
   "execution_count": 46,
   "metadata": {},
   "outputs": [],
   "source": [
    "MtDnaList1['Taxonomy'] = [seq_record.annotations[\"taxonomy\"] for seq_record in SeqIO.parse(r\"C:\\Users\\PC\\Desktop\\MitoClub\\mtDnaInvertebrate\\Body\\1Raw\\mitochondrion.1.genomic.gbff\", \"genbank\")]"
   ]
  },
  {
   "cell_type": "code",
   "execution_count": 47,
   "metadata": {},
   "outputs": [
    {
     "name": "stdout",
     "output_type": "stream",
     "text": [
      "3225\n"
     ]
    }
   ],
   "source": [
    "# Файл 2\n",
    "\n",
    "ids = [seq_record.id for seq_record in SeqIO.parse(r\"C:\\Users\\PC\\Desktop\\MitoClub\\mtDnaInvertebrate\\Body\\1Raw\\mitochondrion.2.genomic.gbff\", \"genbank\")]\n",
    "print(len(ids))"
   ]
  },
  {
   "cell_type": "code",
   "execution_count": 48,
   "metadata": {},
   "outputs": [],
   "source": [
    "d = {\"RefSeqID\":pd.Series(ids, index=range(1,3226))}\n",
    "MtDnaList2 = pd.DataFrame(d)"
   ]
  },
  {
   "cell_type": "code",
   "execution_count": 49,
   "metadata": {},
   "outputs": [],
   "source": [
    "MtDnaList2['SpeciesNames'] = [seq_record.annotations[\"organism\"] for seq_record in SeqIO.parse(r\"C:\\Users\\PC\\Desktop\\MitoClub\\mtDnaInvertebrate\\Body\\1Raw\\mitochondrion.2.genomic.gbff\", \"genbank\")]\n",
    "MtDnaList2['Taxonomy'] = [seq_record.annotations[\"taxonomy\"] for seq_record in SeqIO.parse(r\"C:\\Users\\PC\\Desktop\\MitoClub\\mtDnaInvertebrate\\Body\\1Raw\\mitochondrion.2.genomic.gbff\", \"genbank\")]"
   ]
  },
  {
   "cell_type": "code",
   "execution_count": 50,
   "metadata": {},
   "outputs": [
    {
     "data": {
      "text/html": [
       "<div>\n",
       "<style scoped>\n",
       "    .dataframe tbody tr th:only-of-type {\n",
       "        vertical-align: middle;\n",
       "    }\n",
       "\n",
       "    .dataframe tbody tr th {\n",
       "        vertical-align: top;\n",
       "    }\n",
       "\n",
       "    .dataframe thead th {\n",
       "        text-align: right;\n",
       "    }\n",
       "</style>\n",
       "<table border=\"1\" class=\"dataframe\">\n",
       "  <thead>\n",
       "    <tr style=\"text-align: right;\">\n",
       "      <th></th>\n",
       "      <th>RefSeqID</th>\n",
       "      <th>SpeciesNames</th>\n",
       "      <th>Taxonomy</th>\n",
       "    </tr>\n",
       "  </thead>\n",
       "  <tbody>\n",
       "    <tr>\n",
       "      <th>1</th>\n",
       "      <td>NC_012975.1</td>\n",
       "      <td>Oryzias minutillus</td>\n",
       "      <td>[Eukaryota, Metazoa, Chordata, Craniata, Verte...</td>\n",
       "    </tr>\n",
       "    <tr>\n",
       "      <th>2</th>\n",
       "      <td>NC_012976.1</td>\n",
       "      <td>Oryzias dancena</td>\n",
       "      <td>[Eukaryota, Metazoa, Chordata, Craniata, Verte...</td>\n",
       "    </tr>\n",
       "    <tr>\n",
       "      <th>3</th>\n",
       "      <td>NC_012979.1</td>\n",
       "      <td>Oryzias luzonensis</td>\n",
       "      <td>[Eukaryota, Metazoa, Chordata, Craniata, Verte...</td>\n",
       "    </tr>\n",
       "    <tr>\n",
       "      <th>4</th>\n",
       "      <td>NC_014671.1</td>\n",
       "      <td>Ammothea carolinensis</td>\n",
       "      <td>[Eukaryota, Metazoa, Ecdysozoa, Arthropoda, Ch...</td>\n",
       "    </tr>\n",
       "    <tr>\n",
       "      <th>5</th>\n",
       "      <td>NC_012981.1</td>\n",
       "      <td>Oryzias javanicus</td>\n",
       "      <td>[Eukaryota, Metazoa, Chordata, Craniata, Verte...</td>\n",
       "    </tr>\n",
       "  </tbody>\n",
       "</table>\n",
       "</div>"
      ],
      "text/plain": [
       "      RefSeqID           SpeciesNames  \\\n",
       "1  NC_012975.1     Oryzias minutillus   \n",
       "2  NC_012976.1        Oryzias dancena   \n",
       "3  NC_012979.1     Oryzias luzonensis   \n",
       "4  NC_014671.1  Ammothea carolinensis   \n",
       "5  NC_012981.1      Oryzias javanicus   \n",
       "\n",
       "                                            Taxonomy  \n",
       "1  [Eukaryota, Metazoa, Chordata, Craniata, Verte...  \n",
       "2  [Eukaryota, Metazoa, Chordata, Craniata, Verte...  \n",
       "3  [Eukaryota, Metazoa, Chordata, Craniata, Verte...  \n",
       "4  [Eukaryota, Metazoa, Ecdysozoa, Arthropoda, Ch...  \n",
       "5  [Eukaryota, Metazoa, Chordata, Craniata, Verte...  "
      ]
     },
     "execution_count": 50,
     "metadata": {},
     "output_type": "execute_result"
    }
   ],
   "source": [
    "MtDnaList1.head()"
   ]
  },
  {
   "cell_type": "code",
   "execution_count": 51,
   "metadata": {},
   "outputs": [
    {
     "data": {
      "text/html": [
       "<div>\n",
       "<style scoped>\n",
       "    .dataframe tbody tr th:only-of-type {\n",
       "        vertical-align: middle;\n",
       "    }\n",
       "\n",
       "    .dataframe tbody tr th {\n",
       "        vertical-align: top;\n",
       "    }\n",
       "\n",
       "    .dataframe thead th {\n",
       "        text-align: right;\n",
       "    }\n",
       "</style>\n",
       "<table border=\"1\" class=\"dataframe\">\n",
       "  <thead>\n",
       "    <tr style=\"text-align: right;\">\n",
       "      <th></th>\n",
       "      <th>RefSeqID</th>\n",
       "      <th>SpeciesNames</th>\n",
       "      <th>Taxonomy</th>\n",
       "    </tr>\n",
       "  </thead>\n",
       "  <tbody>\n",
       "    <tr>\n",
       "      <th>1</th>\n",
       "      <td>NC_002529.1</td>\n",
       "      <td>Schistosoma mekongi</td>\n",
       "      <td>[Eukaryota, Metazoa, Platyhelminthes, Trematod...</td>\n",
       "    </tr>\n",
       "    <tr>\n",
       "      <th>2</th>\n",
       "      <td>NC_002545.1</td>\n",
       "      <td>Schistosoma mansoni</td>\n",
       "      <td>[Eukaryota, Metazoa, Platyhelminthes, Trematod...</td>\n",
       "    </tr>\n",
       "    <tr>\n",
       "      <th>3</th>\n",
       "      <td>NC_002546.1</td>\n",
       "      <td>Fasciola hepatica</td>\n",
       "      <td>[Eukaryota, Metazoa, Platyhelminthes, Trematod...</td>\n",
       "    </tr>\n",
       "    <tr>\n",
       "      <th>4</th>\n",
       "      <td>NC_002547.1</td>\n",
       "      <td>Taenia crassiceps</td>\n",
       "      <td>[Eukaryota, Metazoa, Platyhelminthes, Cestoda,...</td>\n",
       "    </tr>\n",
       "    <tr>\n",
       "      <th>5</th>\n",
       "      <td>NC_002544.1</td>\n",
       "      <td>Schistosoma japonicum</td>\n",
       "      <td>[Eukaryota, Metazoa, Platyhelminthes, Trematod...</td>\n",
       "    </tr>\n",
       "  </tbody>\n",
       "</table>\n",
       "</div>"
      ],
      "text/plain": [
       "      RefSeqID           SpeciesNames  \\\n",
       "1  NC_002529.1    Schistosoma mekongi   \n",
       "2  NC_002545.1    Schistosoma mansoni   \n",
       "3  NC_002546.1      Fasciola hepatica   \n",
       "4  NC_002547.1      Taenia crassiceps   \n",
       "5  NC_002544.1  Schistosoma japonicum   \n",
       "\n",
       "                                            Taxonomy  \n",
       "1  [Eukaryota, Metazoa, Platyhelminthes, Trematod...  \n",
       "2  [Eukaryota, Metazoa, Platyhelminthes, Trematod...  \n",
       "3  [Eukaryota, Metazoa, Platyhelminthes, Trematod...  \n",
       "4  [Eukaryota, Metazoa, Platyhelminthes, Cestoda,...  \n",
       "5  [Eukaryota, Metazoa, Platyhelminthes, Trematod...  "
      ]
     },
     "execution_count": 51,
     "metadata": {},
     "output_type": "execute_result"
    }
   ],
   "source": [
    "MtDnaList2.head()"
   ]
  },
  {
   "cell_type": "code",
   "execution_count": 52,
   "metadata": {},
   "outputs": [],
   "source": [
    "MtDnaFullList = pd.concat([MtDnaList1, MtDnaList2])\n",
    "MtDnaFullList.to_csv(r'C:\\Users\\PC\\Desktop\\MitoClub\\MtDnaInvertebrate\\Body\\2Derived\\MtDnaFullList.csv', sep=\"\\t\")"
   ]
  },
  {
   "cell_type": "code",
   "execution_count": 53,
   "metadata": {},
   "outputs": [
    {
     "data": {
      "text/html": [
       "<div>\n",
       "<style scoped>\n",
       "    .dataframe tbody tr th:only-of-type {\n",
       "        vertical-align: middle;\n",
       "    }\n",
       "\n",
       "    .dataframe tbody tr th {\n",
       "        vertical-align: top;\n",
       "    }\n",
       "\n",
       "    .dataframe thead th {\n",
       "        text-align: right;\n",
       "    }\n",
       "</style>\n",
       "<table border=\"1\" class=\"dataframe\">\n",
       "  <thead>\n",
       "    <tr style=\"text-align: right;\">\n",
       "      <th></th>\n",
       "      <th>RefSeqID</th>\n",
       "      <th>SpeciesNames</th>\n",
       "      <th>Taxonomy</th>\n",
       "    </tr>\n",
       "  </thead>\n",
       "  <tbody>\n",
       "    <tr>\n",
       "      <th>1</th>\n",
       "      <td>NC_012975.1</td>\n",
       "      <td>Oryzias minutillus</td>\n",
       "      <td>[Eukaryota, Metazoa, Chordata, Craniata, Verte...</td>\n",
       "    </tr>\n",
       "    <tr>\n",
       "      <th>2</th>\n",
       "      <td>NC_012976.1</td>\n",
       "      <td>Oryzias dancena</td>\n",
       "      <td>[Eukaryota, Metazoa, Chordata, Craniata, Verte...</td>\n",
       "    </tr>\n",
       "    <tr>\n",
       "      <th>3</th>\n",
       "      <td>NC_012979.1</td>\n",
       "      <td>Oryzias luzonensis</td>\n",
       "      <td>[Eukaryota, Metazoa, Chordata, Craniata, Verte...</td>\n",
       "    </tr>\n",
       "    <tr>\n",
       "      <th>4</th>\n",
       "      <td>NC_014671.1</td>\n",
       "      <td>Ammothea carolinensis</td>\n",
       "      <td>[Eukaryota, Metazoa, Ecdysozoa, Arthropoda, Ch...</td>\n",
       "    </tr>\n",
       "    <tr>\n",
       "      <th>5</th>\n",
       "      <td>NC_012981.1</td>\n",
       "      <td>Oryzias javanicus</td>\n",
       "      <td>[Eukaryota, Metazoa, Chordata, Craniata, Verte...</td>\n",
       "    </tr>\n",
       "  </tbody>\n",
       "</table>\n",
       "</div>"
      ],
      "text/plain": [
       "      RefSeqID           SpeciesNames  \\\n",
       "1  NC_012975.1     Oryzias minutillus   \n",
       "2  NC_012976.1        Oryzias dancena   \n",
       "3  NC_012979.1     Oryzias luzonensis   \n",
       "4  NC_014671.1  Ammothea carolinensis   \n",
       "5  NC_012981.1      Oryzias javanicus   \n",
       "\n",
       "                                            Taxonomy  \n",
       "1  [Eukaryota, Metazoa, Chordata, Craniata, Verte...  \n",
       "2  [Eukaryota, Metazoa, Chordata, Craniata, Verte...  \n",
       "3  [Eukaryota, Metazoa, Chordata, Craniata, Verte...  \n",
       "4  [Eukaryota, Metazoa, Ecdysozoa, Arthropoda, Ch...  \n",
       "5  [Eukaryota, Metazoa, Chordata, Craniata, Verte...  "
      ]
     },
     "execution_count": 53,
     "metadata": {},
     "output_type": "execute_result"
    }
   ],
   "source": [
    "MtDnaFullList.head()"
   ]
  },
  {
   "cell_type": "code",
   "execution_count": 1,
   "metadata": {},
   "outputs": [],
   "source": [
    "## ЧАСТЬ 2\n",
    "\n",
    "import re"
   ]
  },
  {
   "cell_type": "code",
   "execution_count": 4,
   "metadata": {},
   "outputs": [],
   "source": [
    "MtDnaFullList = pd.read_csv(r'C:\\Users\\PC\\Desktop\\MitoClub\\MtDnaInvertebrate\\Body\\2Derived\\MtDnaFullList.csv', sep=\"\\t\")"
   ]
  },
  {
   "cell_type": "code",
   "execution_count": 5,
   "metadata": {},
   "outputs": [],
   "source": [
    "new_df = MtDnaFullList['Taxonomy'].str.split(', ',expand=True)"
   ]
  },
  {
   "cell_type": "code",
   "execution_count": 6,
   "metadata": {
    "scrolled": true
   },
   "outputs": [
    {
     "data": {
      "text/html": [
       "<div>\n",
       "<style scoped>\n",
       "    .dataframe tbody tr th:only-of-type {\n",
       "        vertical-align: middle;\n",
       "    }\n",
       "\n",
       "    .dataframe tbody tr th {\n",
       "        vertical-align: top;\n",
       "    }\n",
       "\n",
       "    .dataframe thead th {\n",
       "        text-align: right;\n",
       "    }\n",
       "</style>\n",
       "<table border=\"1\" class=\"dataframe\">\n",
       "  <thead>\n",
       "    <tr style=\"text-align: right;\">\n",
       "      <th></th>\n",
       "      <th>0</th>\n",
       "      <th>1</th>\n",
       "      <th>2</th>\n",
       "      <th>3</th>\n",
       "      <th>4</th>\n",
       "      <th>5</th>\n",
       "      <th>6</th>\n",
       "      <th>7</th>\n",
       "      <th>8</th>\n",
       "      <th>9</th>\n",
       "      <th>...</th>\n",
       "      <th>11</th>\n",
       "      <th>12</th>\n",
       "      <th>13</th>\n",
       "      <th>14</th>\n",
       "      <th>15</th>\n",
       "      <th>16</th>\n",
       "      <th>17</th>\n",
       "      <th>18</th>\n",
       "      <th>19</th>\n",
       "      <th>20</th>\n",
       "    </tr>\n",
       "  </thead>\n",
       "  <tbody>\n",
       "    <tr>\n",
       "      <th>0</th>\n",
       "      <td>['Eukaryota'</td>\n",
       "      <td>'Metazoa'</td>\n",
       "      <td>'Chordata'</td>\n",
       "      <td>'Craniata'</td>\n",
       "      <td>'Vertebrata'</td>\n",
       "      <td>'Euteleostomi'</td>\n",
       "      <td>'Actinopterygii'</td>\n",
       "      <td>'Neopterygii'</td>\n",
       "      <td>'Teleostei'</td>\n",
       "      <td>'Neoteleostei'</td>\n",
       "      <td>...</td>\n",
       "      <td>'Ovalentaria'</td>\n",
       "      <td>'Atherinomorphae'</td>\n",
       "      <td>'Beloniformes'</td>\n",
       "      <td>'Adrianichthyidae'</td>\n",
       "      <td>'Oryziinae'</td>\n",
       "      <td>'Oryzias']</td>\n",
       "      <td>None</td>\n",
       "      <td>None</td>\n",
       "      <td>None</td>\n",
       "      <td>None</td>\n",
       "    </tr>\n",
       "    <tr>\n",
       "      <th>1</th>\n",
       "      <td>['Eukaryota'</td>\n",
       "      <td>'Metazoa'</td>\n",
       "      <td>'Chordata'</td>\n",
       "      <td>'Craniata'</td>\n",
       "      <td>'Vertebrata'</td>\n",
       "      <td>'Euteleostomi'</td>\n",
       "      <td>'Actinopterygii'</td>\n",
       "      <td>'Neopterygii'</td>\n",
       "      <td>'Teleostei'</td>\n",
       "      <td>'Neoteleostei'</td>\n",
       "      <td>...</td>\n",
       "      <td>'Ovalentaria'</td>\n",
       "      <td>'Atherinomorphae'</td>\n",
       "      <td>'Beloniformes'</td>\n",
       "      <td>'Adrianichthyidae'</td>\n",
       "      <td>'Oryziinae'</td>\n",
       "      <td>'Oryzias']</td>\n",
       "      <td>None</td>\n",
       "      <td>None</td>\n",
       "      <td>None</td>\n",
       "      <td>None</td>\n",
       "    </tr>\n",
       "    <tr>\n",
       "      <th>2</th>\n",
       "      <td>['Eukaryota'</td>\n",
       "      <td>'Metazoa'</td>\n",
       "      <td>'Chordata'</td>\n",
       "      <td>'Craniata'</td>\n",
       "      <td>'Vertebrata'</td>\n",
       "      <td>'Euteleostomi'</td>\n",
       "      <td>'Actinopterygii'</td>\n",
       "      <td>'Neopterygii'</td>\n",
       "      <td>'Teleostei'</td>\n",
       "      <td>'Neoteleostei'</td>\n",
       "      <td>...</td>\n",
       "      <td>'Ovalentaria'</td>\n",
       "      <td>'Atherinomorphae'</td>\n",
       "      <td>'Beloniformes'</td>\n",
       "      <td>'Adrianichthyidae'</td>\n",
       "      <td>'Oryziinae'</td>\n",
       "      <td>'Oryzias']</td>\n",
       "      <td>None</td>\n",
       "      <td>None</td>\n",
       "      <td>None</td>\n",
       "      <td>None</td>\n",
       "    </tr>\n",
       "    <tr>\n",
       "      <th>3</th>\n",
       "      <td>['Eukaryota'</td>\n",
       "      <td>'Metazoa'</td>\n",
       "      <td>'Ecdysozoa'</td>\n",
       "      <td>'Arthropoda'</td>\n",
       "      <td>'Chelicerata'</td>\n",
       "      <td>'Pycnogonida'</td>\n",
       "      <td>'Pantopoda'</td>\n",
       "      <td>'Ammotheidae'</td>\n",
       "      <td>'Ammothea']</td>\n",
       "      <td>None</td>\n",
       "      <td>...</td>\n",
       "      <td>None</td>\n",
       "      <td>None</td>\n",
       "      <td>None</td>\n",
       "      <td>None</td>\n",
       "      <td>None</td>\n",
       "      <td>None</td>\n",
       "      <td>None</td>\n",
       "      <td>None</td>\n",
       "      <td>None</td>\n",
       "      <td>None</td>\n",
       "    </tr>\n",
       "    <tr>\n",
       "      <th>4</th>\n",
       "      <td>['Eukaryota'</td>\n",
       "      <td>'Metazoa'</td>\n",
       "      <td>'Chordata'</td>\n",
       "      <td>'Craniata'</td>\n",
       "      <td>'Vertebrata'</td>\n",
       "      <td>'Euteleostomi'</td>\n",
       "      <td>'Actinopterygii'</td>\n",
       "      <td>'Neopterygii'</td>\n",
       "      <td>'Teleostei'</td>\n",
       "      <td>'Neoteleostei'</td>\n",
       "      <td>...</td>\n",
       "      <td>'Ovalentaria'</td>\n",
       "      <td>'Atherinomorphae'</td>\n",
       "      <td>'Beloniformes'</td>\n",
       "      <td>'Adrianichthyidae'</td>\n",
       "      <td>'Oryziinae'</td>\n",
       "      <td>'Oryzias']</td>\n",
       "      <td>None</td>\n",
       "      <td>None</td>\n",
       "      <td>None</td>\n",
       "      <td>None</td>\n",
       "    </tr>\n",
       "  </tbody>\n",
       "</table>\n",
       "<p>5 rows × 21 columns</p>\n",
       "</div>"
      ],
      "text/plain": [
       "             0          1            2             3              4   \\\n",
       "0  ['Eukaryota'  'Metazoa'   'Chordata'    'Craniata'   'Vertebrata'   \n",
       "1  ['Eukaryota'  'Metazoa'   'Chordata'    'Craniata'   'Vertebrata'   \n",
       "2  ['Eukaryota'  'Metazoa'   'Chordata'    'Craniata'   'Vertebrata'   \n",
       "3  ['Eukaryota'  'Metazoa'  'Ecdysozoa'  'Arthropoda'  'Chelicerata'   \n",
       "4  ['Eukaryota'  'Metazoa'   'Chordata'    'Craniata'   'Vertebrata'   \n",
       "\n",
       "               5                 6              7            8   \\\n",
       "0  'Euteleostomi'  'Actinopterygii'  'Neopterygii'  'Teleostei'   \n",
       "1  'Euteleostomi'  'Actinopterygii'  'Neopterygii'  'Teleostei'   \n",
       "2  'Euteleostomi'  'Actinopterygii'  'Neopterygii'  'Teleostei'   \n",
       "3   'Pycnogonida'       'Pantopoda'  'Ammotheidae'  'Ammothea']   \n",
       "4  'Euteleostomi'  'Actinopterygii'  'Neopterygii'  'Teleostei'   \n",
       "\n",
       "               9   ...             11                 12              13  \\\n",
       "0  'Neoteleostei'  ...  'Ovalentaria'  'Atherinomorphae'  'Beloniformes'   \n",
       "1  'Neoteleostei'  ...  'Ovalentaria'  'Atherinomorphae'  'Beloniformes'   \n",
       "2  'Neoteleostei'  ...  'Ovalentaria'  'Atherinomorphae'  'Beloniformes'   \n",
       "3            None  ...           None               None            None   \n",
       "4  'Neoteleostei'  ...  'Ovalentaria'  'Atherinomorphae'  'Beloniformes'   \n",
       "\n",
       "                   14           15          16    17    18    19    20  \n",
       "0  'Adrianichthyidae'  'Oryziinae'  'Oryzias']  None  None  None  None  \n",
       "1  'Adrianichthyidae'  'Oryziinae'  'Oryzias']  None  None  None  None  \n",
       "2  'Adrianichthyidae'  'Oryziinae'  'Oryzias']  None  None  None  None  \n",
       "3                None         None        None  None  None  None  None  \n",
       "4  'Adrianichthyidae'  'Oryziinae'  'Oryzias']  None  None  None  None  \n",
       "\n",
       "[5 rows x 21 columns]"
      ]
     },
     "execution_count": 6,
     "metadata": {},
     "output_type": "execute_result"
    }
   ],
   "source": [
    "new_df.head()"
   ]
  },
  {
   "cell_type": "code",
   "execution_count": 6,
   "metadata": {
    "scrolled": false
   },
   "outputs": [
    {
     "data": {
      "text/plain": [
       "'Metazoa'                             9585\n",
       "'Fungi'                                478\n",
       "'Viridiplantae'                        304\n",
       "'Stramenopiles'                        109\n",
       "'Rhodophyta'                            83\n",
       "'Alveolata'                             45\n",
       "'Amoebozoa'                             11\n",
       "'Cryptophyta'                            8\n",
       "'Jakobida'                               6\n",
       "'Nucleariidae and Fonticula group'       5\n",
       "'Heterolobosea'                          5\n",
       "'Glaucocystophyceae'                     4\n",
       "'Rhizaria'                               4\n",
       "'Ichthyosporea'                          2\n",
       "'Haptophyceae'                           2\n",
       "'Malawimonadidae'                        2\n",
       "'Sar'                                    1\n",
       "'Collodictyonidae'                       1\n",
       "'Euglenozoa'                             1\n",
       "'Filasterea'                             1\n",
       "'Tsukubamonadidae'                       1\n",
       "'Choanoflagellida'                       1\n",
       "'Apusozoa'                               1\n",
       "'Cryptophyceae'                          1\n",
       "Name: 1, dtype: int64"
      ]
     },
     "execution_count": 6,
     "metadata": {},
     "output_type": "execute_result"
    }
   ],
   "source": [
    "new_df[1].value_counts()"
   ]
  },
  {
   "cell_type": "code",
   "execution_count": 14,
   "metadata": {
    "scrolled": false
   },
   "outputs": [
    {
     "ename": "TypeError",
     "evalue": "expected string or bytes-like object",
     "output_type": "error",
     "traceback": [
      "\u001b[1;31m---------------------------------------------------------------------------\u001b[0m",
      "\u001b[1;31mTypeError\u001b[0m                                 Traceback (most recent call last)",
      "\u001b[1;32m<ipython-input-14-8925ecae3649>\u001b[0m in \u001b[0;36m<module>\u001b[1;34m\u001b[0m\n\u001b[0;32m      1\u001b[0m \u001b[1;32mfor\u001b[0m \u001b[0mline\u001b[0m \u001b[1;32min\u001b[0m \u001b[0mnew_df\u001b[0m\u001b[1;33m:\u001b[0m\u001b[1;33m\u001b[0m\u001b[1;33m\u001b[0m\u001b[0m\n\u001b[1;32m----> 2\u001b[1;33m     \u001b[1;32mif\u001b[0m \u001b[0mre\u001b[0m\u001b[1;33m.\u001b[0m\u001b[0mmatch\u001b[0m\u001b[1;33m(\u001b[0m\u001b[1;34mr'Metazoa'\u001b[0m\u001b[1;33m,\u001b[0m \u001b[0mline\u001b[0m\u001b[1;33m)\u001b[0m \u001b[1;32min\u001b[0m \u001b[0mline\u001b[0m\u001b[1;33m:\u001b[0m\u001b[1;33m\u001b[0m\u001b[1;33m\u001b[0m\u001b[0m\n\u001b[0m\u001b[0;32m      3\u001b[0m         \u001b[0mgroup\u001b[0m \u001b[1;33m=\u001b[0m \u001b[1;34m'Metazoa'\u001b[0m\u001b[1;33m\u001b[0m\u001b[1;33m\u001b[0m\u001b[0m\n\u001b[0;32m      4\u001b[0m         \u001b[0mprint\u001b[0m\u001b[1;33m(\u001b[0m\u001b[0mgroup\u001b[0m\u001b[1;33m)\u001b[0m\u001b[1;33m\u001b[0m\u001b[1;33m\u001b[0m\u001b[0m\n\u001b[0;32m      5\u001b[0m \u001b[1;33m\u001b[0m\u001b[0m\n",
      "\u001b[1;32mC:\\Program Files\\WindowsApps\\PythonSoftwareFoundation.Python.3.8_3.8.1520.0_x64__qbz5n2kfra8p0\\lib\\re.py\u001b[0m in \u001b[0;36mmatch\u001b[1;34m(pattern, string, flags)\u001b[0m\n\u001b[0;32m    189\u001b[0m     \"\"\"Try to apply the pattern at the start of the string, returning\n\u001b[0;32m    190\u001b[0m     a Match object, or None if no match was found.\"\"\"\n\u001b[1;32m--> 191\u001b[1;33m     \u001b[1;32mreturn\u001b[0m \u001b[0m_compile\u001b[0m\u001b[1;33m(\u001b[0m\u001b[0mpattern\u001b[0m\u001b[1;33m,\u001b[0m \u001b[0mflags\u001b[0m\u001b[1;33m)\u001b[0m\u001b[1;33m.\u001b[0m\u001b[0mmatch\u001b[0m\u001b[1;33m(\u001b[0m\u001b[0mstring\u001b[0m\u001b[1;33m)\u001b[0m\u001b[1;33m\u001b[0m\u001b[1;33m\u001b[0m\u001b[0m\n\u001b[0m\u001b[0;32m    192\u001b[0m \u001b[1;33m\u001b[0m\u001b[0m\n\u001b[0;32m    193\u001b[0m \u001b[1;32mdef\u001b[0m \u001b[0mfullmatch\u001b[0m\u001b[1;33m(\u001b[0m\u001b[0mpattern\u001b[0m\u001b[1;33m,\u001b[0m \u001b[0mstring\u001b[0m\u001b[1;33m,\u001b[0m \u001b[0mflags\u001b[0m\u001b[1;33m=\u001b[0m\u001b[1;36m0\u001b[0m\u001b[1;33m)\u001b[0m\u001b[1;33m:\u001b[0m\u001b[1;33m\u001b[0m\u001b[1;33m\u001b[0m\u001b[0m\n",
      "\u001b[1;31mTypeError\u001b[0m: expected string or bytes-like object"
     ]
    }
   ],
   "source": [
    "for line in new_df: \n",
    "    if re.match(r'Metazoa', line) in line:\n",
    "        group = 'Metazoa'\n",
    "        print(group)\n",
    "   "
   ]
  },
  {
   "cell_type": "code",
   "execution_count": 16,
   "metadata": {},
   "outputs": [
    {
     "data": {
      "text/plain": [
       "'Chordata'          5550\n",
       "'Ecdysozoa'         2927\n",
       "'Lophotrochozoa'     569\n",
       "'Dikarya'            449\n",
       "'Streptophyta'       228\n",
       "                    ... \n",
       "'Isochrysidales'       1\n",
       "'Cyanoptyche']         1\n",
       "'Chrysophyceae'        1\n",
       "'Ichthyophonida'       1\n",
       "'Seculamonas']         1\n",
       "Name: 2, Length: 70, dtype: int64"
      ]
     },
     "execution_count": 16,
     "metadata": {},
     "output_type": "execute_result"
    }
   ],
   "source": [
    "new_df[2].value_counts()"
   ]
  },
  {
   "cell_type": "code",
   "execution_count": 17,
   "metadata": {},
   "outputs": [],
   "source": [
    "new_df.to_csv(r'C:\\Users\\PC\\Desktop\\MitoClub\\MtDnaInvertebrate\\Body\\2Derived\\Taxonomy.csv', sep=\"\\t\")"
   ]
  }
 ],
 "metadata": {
  "kernelspec": {
   "display_name": "Python 3",
   "language": "python",
   "name": "python3"
  },
  "language_info": {
   "codemirror_mode": {
    "name": "ipython",
    "version": 3
   },
   "file_extension": ".py",
   "mimetype": "text/x-python",
   "name": "python",
   "nbconvert_exporter": "python",
   "pygments_lexer": "ipython3",
   "version": "3.8.6"
  }
 },
 "nbformat": 4,
 "nbformat_minor": 4
}
