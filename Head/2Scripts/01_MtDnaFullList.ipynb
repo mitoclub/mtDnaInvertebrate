{
 "cells": [
  {
   "cell_type": "code",
   "execution_count": 1,
   "metadata": {},
   "outputs": [],
   "source": [
    "import pandas as pd\n",
    "import Bio as bio\n",
    "from Bio import SeqIO\n",
    "from Bio import GenBank\n",
    "import re\n",
    "import numpy as np"
   ]
  },
  {
   "cell_type": "code",
   "execution_count": 4,
   "metadata": {},
   "outputs": [
    {
     "name": "stdout",
     "output_type": "stream",
     "text": [
      "1.77\n"
     ]
    }
   ],
   "source": [
    "print (bio.__version__)"
   ]
  },
  {
   "cell_type": "code",
   "execution_count": 5,
   "metadata": {},
   "outputs": [
    {
     "name": "stderr",
     "output_type": "stream",
     "text": [
      "C:\\Users\\PC\\AppData\\Local\\Packages\\PythonSoftwareFoundation.Python.3.8_qbz5n2kfra8p0\\LocalCache\\local-packages\\Python38\\site-packages\\Bio\\GenBank\\Scanner.py:1806: BiopythonParserWarning: Structured comment not parsed for NC_037498. Is it malformed?\n",
      "  warnings.warn(\n",
      "C:\\Users\\PC\\AppData\\Local\\Packages\\PythonSoftwareFoundation.Python.3.8_qbz5n2kfra8p0\\LocalCache\\local-packages\\Python38\\site-packages\\Bio\\GenBank\\Scanner.py:1806: BiopythonParserWarning: Structured comment not parsed for NC_037499. Is it malformed?\n",
      "  warnings.warn(\n",
      "C:\\Users\\PC\\AppData\\Local\\Packages\\PythonSoftwareFoundation.Python.3.8_qbz5n2kfra8p0\\LocalCache\\local-packages\\Python38\\site-packages\\Bio\\GenBank\\Scanner.py:1806: BiopythonParserWarning: Structured comment not parsed for NC_037500. Is it malformed?\n",
      "  warnings.warn(\n"
     ]
    }
   ],
   "source": [
    "ids = [seq_record.id for seq_record in SeqIO.parse(r\"C:\\Users\\PC\\Desktop\\MitoClub\\mtDnaInvertebrate\\Body\\1Raw\\mitochondrion.genomic.gbff\", \"genbank\")]"
   ]
  },
  {
   "cell_type": "code",
   "execution_count": 6,
   "metadata": {},
   "outputs": [
    {
     "name": "stdout",
     "output_type": "stream",
     "text": [
      "10664\n"
     ]
    }
   ],
   "source": [
    "print(len(ids))"
   ]
  },
  {
   "cell_type": "code",
   "execution_count": 7,
   "metadata": {},
   "outputs": [],
   "source": [
    "d = {\"RefSeqID\":pd.Series(ids, index=range(1,10665))}\n",
    "MtDnaFullList = pd.DataFrame(d)"
   ]
  },
  {
   "cell_type": "code",
   "execution_count": 8,
   "metadata": {},
   "outputs": [
    {
     "data": {
      "text/html": [
       "<div>\n",
       "<style scoped>\n",
       "    .dataframe tbody tr th:only-of-type {\n",
       "        vertical-align: middle;\n",
       "    }\n",
       "\n",
       "    .dataframe tbody tr th {\n",
       "        vertical-align: top;\n",
       "    }\n",
       "\n",
       "    .dataframe thead th {\n",
       "        text-align: right;\n",
       "    }\n",
       "</style>\n",
       "<table border=\"1\" class=\"dataframe\">\n",
       "  <thead>\n",
       "    <tr style=\"text-align: right;\">\n",
       "      <th></th>\n",
       "      <th>RefSeqID</th>\n",
       "    </tr>\n",
       "  </thead>\n",
       "  <tbody>\n",
       "    <tr>\n",
       "      <th>1</th>\n",
       "      <td>NC_012975.1</td>\n",
       "    </tr>\n",
       "    <tr>\n",
       "      <th>2</th>\n",
       "      <td>NC_012976.1</td>\n",
       "    </tr>\n",
       "    <tr>\n",
       "      <th>3</th>\n",
       "      <td>NC_012979.1</td>\n",
       "    </tr>\n",
       "    <tr>\n",
       "      <th>4</th>\n",
       "      <td>NC_014671.1</td>\n",
       "    </tr>\n",
       "    <tr>\n",
       "      <th>5</th>\n",
       "      <td>NC_012981.1</td>\n",
       "    </tr>\n",
       "  </tbody>\n",
       "</table>\n",
       "</div>"
      ],
      "text/plain": [
       "      RefSeqID\n",
       "1  NC_012975.1\n",
       "2  NC_012976.1\n",
       "3  NC_012979.1\n",
       "4  NC_014671.1\n",
       "5  NC_012981.1"
      ]
     },
     "execution_count": 8,
     "metadata": {},
     "output_type": "execute_result"
    }
   ],
   "source": [
    "MtDnaFullList.head()"
   ]
  },
  {
   "cell_type": "code",
   "execution_count": 9,
   "metadata": {},
   "outputs": [
    {
     "name": "stderr",
     "output_type": "stream",
     "text": [
      "C:\\Users\\PC\\AppData\\Local\\Packages\\PythonSoftwareFoundation.Python.3.8_qbz5n2kfra8p0\\LocalCache\\local-packages\\Python38\\site-packages\\Bio\\GenBank\\Scanner.py:1806: BiopythonParserWarning: Structured comment not parsed for NC_037498. Is it malformed?\n",
      "  warnings.warn(\n",
      "C:\\Users\\PC\\AppData\\Local\\Packages\\PythonSoftwareFoundation.Python.3.8_qbz5n2kfra8p0\\LocalCache\\local-packages\\Python38\\site-packages\\Bio\\GenBank\\Scanner.py:1806: BiopythonParserWarning: Structured comment not parsed for NC_037499. Is it malformed?\n",
      "  warnings.warn(\n",
      "C:\\Users\\PC\\AppData\\Local\\Packages\\PythonSoftwareFoundation.Python.3.8_qbz5n2kfra8p0\\LocalCache\\local-packages\\Python38\\site-packages\\Bio\\GenBank\\Scanner.py:1806: BiopythonParserWarning: Structured comment not parsed for NC_037500. Is it malformed?\n",
      "  warnings.warn(\n"
     ]
    }
   ],
   "source": [
    "MtDnaFullList['SpeciesNames'] = [seq_record.annotations[\"organism\"] for seq_record in SeqIO.parse(r\"C:\\Users\\PC\\Desktop\\MitoClub\\mtDnaInvertebrate\\Body\\1Raw\\mitochondrion.genomic.gbff\", \"genbank\")]"
   ]
  },
  {
   "cell_type": "code",
   "execution_count": 10,
   "metadata": {},
   "outputs": [],
   "source": [
    "MtDnaFullList['Taxonomy'] = [seq_record.annotations[\"taxonomy\"] for seq_record in SeqIO.parse(r\"C:\\Users\\PC\\Desktop\\MitoClub\\mtDnaInvertebrate\\Body\\1Raw\\mitochondrion.genomic.gbff\", \"genbank\")]"
   ]
  },
  {
   "cell_type": "code",
   "execution_count": 42,
   "metadata": {},
   "outputs": [
    {
     "data": {
      "text/html": [
       "<div>\n",
       "<style scoped>\n",
       "    .dataframe tbody tr th:only-of-type {\n",
       "        vertical-align: middle;\n",
       "    }\n",
       "\n",
       "    .dataframe tbody tr th {\n",
       "        vertical-align: top;\n",
       "    }\n",
       "\n",
       "    .dataframe thead th {\n",
       "        text-align: right;\n",
       "    }\n",
       "</style>\n",
       "<table border=\"1\" class=\"dataframe\">\n",
       "  <thead>\n",
       "    <tr style=\"text-align: right;\">\n",
       "      <th></th>\n",
       "      <th>RefSeqID</th>\n",
       "      <th>SpeciesNames</th>\n",
       "      <th>Taxonomy</th>\n",
       "      <th>Lenght</th>\n",
       "      <th>Num_A</th>\n",
       "      <th>Num_T</th>\n",
       "      <th>Num_G</th>\n",
       "      <th>Num_C</th>\n",
       "      <th>%A</th>\n",
       "      <th>%T</th>\n",
       "      <th>%G</th>\n",
       "      <th>%C</th>\n",
       "      <th>GC</th>\n",
       "      <th>log2Lenght</th>\n",
       "    </tr>\n",
       "  </thead>\n",
       "  <tbody>\n",
       "    <tr>\n",
       "      <th>1</th>\n",
       "      <td>NC_012975.1</td>\n",
       "      <td>Oryzias minutillus</td>\n",
       "      <td>[Eukaryota, Metazoa, Chordata, Craniata, Verte...</td>\n",
       "      <td>16953</td>\n",
       "      <td>4969</td>\n",
       "      <td>4978</td>\n",
       "      <td>2935</td>\n",
       "      <td>4071</td>\n",
       "      <td>29.310447</td>\n",
       "      <td>29.363534</td>\n",
       "      <td>17.312570</td>\n",
       "      <td>24.013449</td>\n",
       "      <td>41.326019</td>\n",
       "      <td>14.049253</td>\n",
       "    </tr>\n",
       "    <tr>\n",
       "      <th>2</th>\n",
       "      <td>NC_012976.1</td>\n",
       "      <td>Oryzias dancena</td>\n",
       "      <td>[Eukaryota, Metazoa, Chordata, Craniata, Verte...</td>\n",
       "      <td>16863</td>\n",
       "      <td>4888</td>\n",
       "      <td>5168</td>\n",
       "      <td>2778</td>\n",
       "      <td>4029</td>\n",
       "      <td>28.986539</td>\n",
       "      <td>30.646979</td>\n",
       "      <td>16.473937</td>\n",
       "      <td>23.892546</td>\n",
       "      <td>40.366483</td>\n",
       "      <td>14.041574</td>\n",
       "    </tr>\n",
       "    <tr>\n",
       "      <th>3</th>\n",
       "      <td>NC_012979.1</td>\n",
       "      <td>Oryzias luzonensis</td>\n",
       "      <td>[Eukaryota, Metazoa, Chordata, Craniata, Verte...</td>\n",
       "      <td>16666</td>\n",
       "      <td>4403</td>\n",
       "      <td>4556</td>\n",
       "      <td>3103</td>\n",
       "      <td>4604</td>\n",
       "      <td>26.419057</td>\n",
       "      <td>27.337093</td>\n",
       "      <td>18.618745</td>\n",
       "      <td>27.625105</td>\n",
       "      <td>46.243850</td>\n",
       "      <td>14.024620</td>\n",
       "    </tr>\n",
       "    <tr>\n",
       "      <th>4</th>\n",
       "      <td>NC_014671.1</td>\n",
       "      <td>Ammothea carolinensis</td>\n",
       "      <td>[Eukaryota, Metazoa, Ecdysozoa, Arthropoda, Ch...</td>\n",
       "      <td>15101</td>\n",
       "      <td>6379</td>\n",
       "      <td>5767</td>\n",
       "      <td>1121</td>\n",
       "      <td>1834</td>\n",
       "      <td>42.242236</td>\n",
       "      <td>38.189524</td>\n",
       "      <td>7.423349</td>\n",
       "      <td>12.144891</td>\n",
       "      <td>19.568241</td>\n",
       "      <td>13.882356</td>\n",
       "    </tr>\n",
       "    <tr>\n",
       "      <th>5</th>\n",
       "      <td>NC_012981.1</td>\n",
       "      <td>Oryzias javanicus</td>\n",
       "      <td>[Eukaryota, Metazoa, Chordata, Craniata, Verte...</td>\n",
       "      <td>16892</td>\n",
       "      <td>4523</td>\n",
       "      <td>4616</td>\n",
       "      <td>3004</td>\n",
       "      <td>4749</td>\n",
       "      <td>26.775989</td>\n",
       "      <td>27.326545</td>\n",
       "      <td>17.783566</td>\n",
       "      <td>28.113900</td>\n",
       "      <td>45.897466</td>\n",
       "      <td>14.044053</td>\n",
       "    </tr>\n",
       "  </tbody>\n",
       "</table>\n",
       "</div>"
      ],
      "text/plain": [
       "      RefSeqID           SpeciesNames  \\\n",
       "1  NC_012975.1     Oryzias minutillus   \n",
       "2  NC_012976.1        Oryzias dancena   \n",
       "3  NC_012979.1     Oryzias luzonensis   \n",
       "4  NC_014671.1  Ammothea carolinensis   \n",
       "5  NC_012981.1      Oryzias javanicus   \n",
       "\n",
       "                                            Taxonomy  Lenght  Num_A  Num_T  \\\n",
       "1  [Eukaryota, Metazoa, Chordata, Craniata, Verte...   16953   4969   4978   \n",
       "2  [Eukaryota, Metazoa, Chordata, Craniata, Verte...   16863   4888   5168   \n",
       "3  [Eukaryota, Metazoa, Chordata, Craniata, Verte...   16666   4403   4556   \n",
       "4  [Eukaryota, Metazoa, Ecdysozoa, Arthropoda, Ch...   15101   6379   5767   \n",
       "5  [Eukaryota, Metazoa, Chordata, Craniata, Verte...   16892   4523   4616   \n",
       "\n",
       "   Num_G  Num_C         %A         %T         %G         %C         GC  \\\n",
       "1   2935   4071  29.310447  29.363534  17.312570  24.013449  41.326019   \n",
       "2   2778   4029  28.986539  30.646979  16.473937  23.892546  40.366483   \n",
       "3   3103   4604  26.419057  27.337093  18.618745  27.625105  46.243850   \n",
       "4   1121   1834  42.242236  38.189524   7.423349  12.144891  19.568241   \n",
       "5   3004   4749  26.775989  27.326545  17.783566  28.113900  45.897466   \n",
       "\n",
       "   log2Lenght  \n",
       "1   14.049253  \n",
       "2   14.041574  \n",
       "3   14.024620  \n",
       "4   13.882356  \n",
       "5   14.044053  "
      ]
     },
     "execution_count": 42,
     "metadata": {},
     "output_type": "execute_result"
    }
   ],
   "source": [
    "MtDnaFullList.head()"
   ]
  },
  {
   "cell_type": "code",
   "execution_count": 31,
   "metadata": {},
   "outputs": [
    {
     "name": "stderr",
     "output_type": "stream",
     "text": [
      "C:\\Users\\PC\\AppData\\Local\\Packages\\PythonSoftwareFoundation.Python.3.8_qbz5n2kfra8p0\\LocalCache\\local-packages\\Python38\\site-packages\\Bio\\GenBank\\Scanner.py:1806: BiopythonParserWarning: Structured comment not parsed for NC_037498. Is it malformed?\n",
      "  warnings.warn(\n",
      "C:\\Users\\PC\\AppData\\Local\\Packages\\PythonSoftwareFoundation.Python.3.8_qbz5n2kfra8p0\\LocalCache\\local-packages\\Python38\\site-packages\\Bio\\GenBank\\Scanner.py:1806: BiopythonParserWarning: Structured comment not parsed for NC_037499. Is it malformed?\n",
      "  warnings.warn(\n",
      "C:\\Users\\PC\\AppData\\Local\\Packages\\PythonSoftwareFoundation.Python.3.8_qbz5n2kfra8p0\\LocalCache\\local-packages\\Python38\\site-packages\\Bio\\GenBank\\Scanner.py:1806: BiopythonParserWarning: Structured comment not parsed for NC_037500. Is it malformed?\n",
      "  warnings.warn(\n"
     ]
    }
   ],
   "source": [
    "MtDnaFullList['Lenght'] = [len(seq_record) for seq_record in SeqIO.parse(r\"C:\\Users\\PC\\Desktop\\MitoClub\\mtDnaInvertebrate\\Body\\1Raw\\mitochondrion.genomic.gbff\", \"genbank\")]"
   ]
  },
  {
   "cell_type": "code",
   "execution_count": 32,
   "metadata": {},
   "outputs": [],
   "source": [
    "MtDnaFullList['Num_A'] = [seq_record.seq.count(\"A\") for seq_record in SeqIO.parse(r\"C:\\Users\\PC\\Desktop\\MitoClub\\mtDnaInvertebrate\\Body\\1Raw\\mitochondrion.genomic.gbff\", \"genbank\")]\n",
    "MtDnaFullList['Num_T'] = [seq_record.seq.count(\"T\") for seq_record in SeqIO.parse(r\"C:\\Users\\PC\\Desktop\\MitoClub\\mtDnaInvertebrate\\Body\\1Raw\\mitochondrion.genomic.gbff\", \"genbank\")]\n",
    "MtDnaFullList['Num_G'] = [seq_record.seq.count(\"G\") for seq_record in SeqIO.parse(r\"C:\\Users\\PC\\Desktop\\MitoClub\\mtDnaInvertebrate\\Body\\1Raw\\mitochondrion.genomic.gbff\", \"genbank\")]\n",
    "MtDnaFullList['Num_C'] = [seq_record.seq.count(\"C\") for seq_record in SeqIO.parse(r\"C:\\Users\\PC\\Desktop\\MitoClub\\mtDnaInvertebrate\\Body\\1Raw\\mitochondrion.genomic.gbff\", \"genbank\")]"
   ]
  },
  {
   "cell_type": "code",
   "execution_count": 34,
   "metadata": {},
   "outputs": [],
   "source": [
    "MtDnaFullList['%A'] = 100 * MtDnaFullList['Num_A'] / MtDnaFullList['Lenght']\n",
    "MtDnaFullList['%T'] = 100 * MtDnaFullList['Num_T'] / MtDnaFullList['Lenght']\n",
    "MtDnaFullList['%G'] = 100 * MtDnaFullList['Num_G'] / MtDnaFullList['Lenght']\n",
    "MtDnaFullList['%C'] = 100 * MtDnaFullList['Num_C'] / MtDnaFullList['Lenght']"
   ]
  },
  {
   "cell_type": "code",
   "execution_count": 35,
   "metadata": {},
   "outputs": [],
   "source": [
    "MtDnaFullList['GC'] = MtDnaFullList['%G'] + MtDnaFullList['%C']"
   ]
  },
  {
   "cell_type": "code",
   "execution_count": 39,
   "metadata": {},
   "outputs": [],
   "source": [
    "MtDnaFullList = MtDnaFullList.drop(np.where(MtDnaFullList['GC'] == 0)[0])"
   ]
  },
  {
   "cell_type": "code",
   "execution_count": 41,
   "metadata": {},
   "outputs": [],
   "source": [
    "MtDnaFullList['log2Lenght'] = np.log2(MtDnaFullList['Lenght'])"
   ]
  },
  {
   "cell_type": "code",
   "execution_count": 44,
   "metadata": {},
   "outputs": [],
   "source": [
    "MtDnaFullList.to_csv(r'C:\\Users\\PC\\Desktop\\MitoClub\\MtDnaInvertebrate\\Body\\2Derived\\MtDnaFullList.csv', sep=\";\")"
   ]
  },
  {
   "cell_type": "code",
   "execution_count": 1,
   "metadata": {},
   "outputs": [],
   "source": [
    "## ЧАСТЬ 2\n",
    "## отдельный файл с таксономией"
   ]
  },
  {
   "cell_type": "code",
   "execution_count": 4,
   "metadata": {},
   "outputs": [],
   "source": [
    "MtDnaFullList = pd.read_csv(r'C:\\Users\\PC\\Desktop\\MitoClub\\MtDnaInvertebrate\\Body\\2Derived\\MtDnaFullList.csv', sep=\"\\t\")"
   ]
  },
  {
   "cell_type": "code",
   "execution_count": 5,
   "metadata": {},
   "outputs": [],
   "source": [
    "new_df = MtDnaFullList['Taxonomy'].str.split(', ',expand=True)"
   ]
  },
  {
   "cell_type": "code",
   "execution_count": 6,
   "metadata": {
    "scrolled": true
   },
   "outputs": [
    {
     "data": {
      "text/html": [
       "<div>\n",
       "<style scoped>\n",
       "    .dataframe tbody tr th:only-of-type {\n",
       "        vertical-align: middle;\n",
       "    }\n",
       "\n",
       "    .dataframe tbody tr th {\n",
       "        vertical-align: top;\n",
       "    }\n",
       "\n",
       "    .dataframe thead th {\n",
       "        text-align: right;\n",
       "    }\n",
       "</style>\n",
       "<table border=\"1\" class=\"dataframe\">\n",
       "  <thead>\n",
       "    <tr style=\"text-align: right;\">\n",
       "      <th></th>\n",
       "      <th>0</th>\n",
       "      <th>1</th>\n",
       "      <th>2</th>\n",
       "      <th>3</th>\n",
       "      <th>4</th>\n",
       "      <th>5</th>\n",
       "      <th>6</th>\n",
       "      <th>7</th>\n",
       "      <th>8</th>\n",
       "      <th>9</th>\n",
       "      <th>...</th>\n",
       "      <th>11</th>\n",
       "      <th>12</th>\n",
       "      <th>13</th>\n",
       "      <th>14</th>\n",
       "      <th>15</th>\n",
       "      <th>16</th>\n",
       "      <th>17</th>\n",
       "      <th>18</th>\n",
       "      <th>19</th>\n",
       "      <th>20</th>\n",
       "    </tr>\n",
       "  </thead>\n",
       "  <tbody>\n",
       "    <tr>\n",
       "      <th>0</th>\n",
       "      <td>['Eukaryota'</td>\n",
       "      <td>'Metazoa'</td>\n",
       "      <td>'Chordata'</td>\n",
       "      <td>'Craniata'</td>\n",
       "      <td>'Vertebrata'</td>\n",
       "      <td>'Euteleostomi'</td>\n",
       "      <td>'Actinopterygii'</td>\n",
       "      <td>'Neopterygii'</td>\n",
       "      <td>'Teleostei'</td>\n",
       "      <td>'Neoteleostei'</td>\n",
       "      <td>...</td>\n",
       "      <td>'Ovalentaria'</td>\n",
       "      <td>'Atherinomorphae'</td>\n",
       "      <td>'Beloniformes'</td>\n",
       "      <td>'Adrianichthyidae'</td>\n",
       "      <td>'Oryziinae'</td>\n",
       "      <td>'Oryzias']</td>\n",
       "      <td>None</td>\n",
       "      <td>None</td>\n",
       "      <td>None</td>\n",
       "      <td>None</td>\n",
       "    </tr>\n",
       "    <tr>\n",
       "      <th>1</th>\n",
       "      <td>['Eukaryota'</td>\n",
       "      <td>'Metazoa'</td>\n",
       "      <td>'Chordata'</td>\n",
       "      <td>'Craniata'</td>\n",
       "      <td>'Vertebrata'</td>\n",
       "      <td>'Euteleostomi'</td>\n",
       "      <td>'Actinopterygii'</td>\n",
       "      <td>'Neopterygii'</td>\n",
       "      <td>'Teleostei'</td>\n",
       "      <td>'Neoteleostei'</td>\n",
       "      <td>...</td>\n",
       "      <td>'Ovalentaria'</td>\n",
       "      <td>'Atherinomorphae'</td>\n",
       "      <td>'Beloniformes'</td>\n",
       "      <td>'Adrianichthyidae'</td>\n",
       "      <td>'Oryziinae'</td>\n",
       "      <td>'Oryzias']</td>\n",
       "      <td>None</td>\n",
       "      <td>None</td>\n",
       "      <td>None</td>\n",
       "      <td>None</td>\n",
       "    </tr>\n",
       "    <tr>\n",
       "      <th>2</th>\n",
       "      <td>['Eukaryota'</td>\n",
       "      <td>'Metazoa'</td>\n",
       "      <td>'Chordata'</td>\n",
       "      <td>'Craniata'</td>\n",
       "      <td>'Vertebrata'</td>\n",
       "      <td>'Euteleostomi'</td>\n",
       "      <td>'Actinopterygii'</td>\n",
       "      <td>'Neopterygii'</td>\n",
       "      <td>'Teleostei'</td>\n",
       "      <td>'Neoteleostei'</td>\n",
       "      <td>...</td>\n",
       "      <td>'Ovalentaria'</td>\n",
       "      <td>'Atherinomorphae'</td>\n",
       "      <td>'Beloniformes'</td>\n",
       "      <td>'Adrianichthyidae'</td>\n",
       "      <td>'Oryziinae'</td>\n",
       "      <td>'Oryzias']</td>\n",
       "      <td>None</td>\n",
       "      <td>None</td>\n",
       "      <td>None</td>\n",
       "      <td>None</td>\n",
       "    </tr>\n",
       "    <tr>\n",
       "      <th>3</th>\n",
       "      <td>['Eukaryota'</td>\n",
       "      <td>'Metazoa'</td>\n",
       "      <td>'Ecdysozoa'</td>\n",
       "      <td>'Arthropoda'</td>\n",
       "      <td>'Chelicerata'</td>\n",
       "      <td>'Pycnogonida'</td>\n",
       "      <td>'Pantopoda'</td>\n",
       "      <td>'Ammotheidae'</td>\n",
       "      <td>'Ammothea']</td>\n",
       "      <td>None</td>\n",
       "      <td>...</td>\n",
       "      <td>None</td>\n",
       "      <td>None</td>\n",
       "      <td>None</td>\n",
       "      <td>None</td>\n",
       "      <td>None</td>\n",
       "      <td>None</td>\n",
       "      <td>None</td>\n",
       "      <td>None</td>\n",
       "      <td>None</td>\n",
       "      <td>None</td>\n",
       "    </tr>\n",
       "    <tr>\n",
       "      <th>4</th>\n",
       "      <td>['Eukaryota'</td>\n",
       "      <td>'Metazoa'</td>\n",
       "      <td>'Chordata'</td>\n",
       "      <td>'Craniata'</td>\n",
       "      <td>'Vertebrata'</td>\n",
       "      <td>'Euteleostomi'</td>\n",
       "      <td>'Actinopterygii'</td>\n",
       "      <td>'Neopterygii'</td>\n",
       "      <td>'Teleostei'</td>\n",
       "      <td>'Neoteleostei'</td>\n",
       "      <td>...</td>\n",
       "      <td>'Ovalentaria'</td>\n",
       "      <td>'Atherinomorphae'</td>\n",
       "      <td>'Beloniformes'</td>\n",
       "      <td>'Adrianichthyidae'</td>\n",
       "      <td>'Oryziinae'</td>\n",
       "      <td>'Oryzias']</td>\n",
       "      <td>None</td>\n",
       "      <td>None</td>\n",
       "      <td>None</td>\n",
       "      <td>None</td>\n",
       "    </tr>\n",
       "  </tbody>\n",
       "</table>\n",
       "<p>5 rows × 21 columns</p>\n",
       "</div>"
      ],
      "text/plain": [
       "             0          1            2             3              4   \\\n",
       "0  ['Eukaryota'  'Metazoa'   'Chordata'    'Craniata'   'Vertebrata'   \n",
       "1  ['Eukaryota'  'Metazoa'   'Chordata'    'Craniata'   'Vertebrata'   \n",
       "2  ['Eukaryota'  'Metazoa'   'Chordata'    'Craniata'   'Vertebrata'   \n",
       "3  ['Eukaryota'  'Metazoa'  'Ecdysozoa'  'Arthropoda'  'Chelicerata'   \n",
       "4  ['Eukaryota'  'Metazoa'   'Chordata'    'Craniata'   'Vertebrata'   \n",
       "\n",
       "               5                 6              7            8   \\\n",
       "0  'Euteleostomi'  'Actinopterygii'  'Neopterygii'  'Teleostei'   \n",
       "1  'Euteleostomi'  'Actinopterygii'  'Neopterygii'  'Teleostei'   \n",
       "2  'Euteleostomi'  'Actinopterygii'  'Neopterygii'  'Teleostei'   \n",
       "3   'Pycnogonida'       'Pantopoda'  'Ammotheidae'  'Ammothea']   \n",
       "4  'Euteleostomi'  'Actinopterygii'  'Neopterygii'  'Teleostei'   \n",
       "\n",
       "               9   ...             11                 12              13  \\\n",
       "0  'Neoteleostei'  ...  'Ovalentaria'  'Atherinomorphae'  'Beloniformes'   \n",
       "1  'Neoteleostei'  ...  'Ovalentaria'  'Atherinomorphae'  'Beloniformes'   \n",
       "2  'Neoteleostei'  ...  'Ovalentaria'  'Atherinomorphae'  'Beloniformes'   \n",
       "3            None  ...           None               None            None   \n",
       "4  'Neoteleostei'  ...  'Ovalentaria'  'Atherinomorphae'  'Beloniformes'   \n",
       "\n",
       "                   14           15          16    17    18    19    20  \n",
       "0  'Adrianichthyidae'  'Oryziinae'  'Oryzias']  None  None  None  None  \n",
       "1  'Adrianichthyidae'  'Oryziinae'  'Oryzias']  None  None  None  None  \n",
       "2  'Adrianichthyidae'  'Oryziinae'  'Oryzias']  None  None  None  None  \n",
       "3                None         None        None  None  None  None  None  \n",
       "4  'Adrianichthyidae'  'Oryziinae'  'Oryzias']  None  None  None  None  \n",
       "\n",
       "[5 rows x 21 columns]"
      ]
     },
     "execution_count": 6,
     "metadata": {},
     "output_type": "execute_result"
    }
   ],
   "source": [
    "new_df.head()"
   ]
  },
  {
   "cell_type": "code",
   "execution_count": 6,
   "metadata": {
    "scrolled": false
   },
   "outputs": [
    {
     "data": {
      "text/plain": [
       "'Metazoa'                             9585\n",
       "'Fungi'                                478\n",
       "'Viridiplantae'                        304\n",
       "'Stramenopiles'                        109\n",
       "'Rhodophyta'                            83\n",
       "'Alveolata'                             45\n",
       "'Amoebozoa'                             11\n",
       "'Cryptophyta'                            8\n",
       "'Jakobida'                               6\n",
       "'Nucleariidae and Fonticula group'       5\n",
       "'Heterolobosea'                          5\n",
       "'Glaucocystophyceae'                     4\n",
       "'Rhizaria'                               4\n",
       "'Ichthyosporea'                          2\n",
       "'Haptophyceae'                           2\n",
       "'Malawimonadidae'                        2\n",
       "'Sar'                                    1\n",
       "'Collodictyonidae'                       1\n",
       "'Euglenozoa'                             1\n",
       "'Filasterea'                             1\n",
       "'Tsukubamonadidae'                       1\n",
       "'Choanoflagellida'                       1\n",
       "'Apusozoa'                               1\n",
       "'Cryptophyceae'                          1\n",
       "Name: 1, dtype: int64"
      ]
     },
     "execution_count": 6,
     "metadata": {},
     "output_type": "execute_result"
    }
   ],
   "source": [
    "new_df[1].value_counts()"
   ]
  },
  {
   "cell_type": "code",
   "execution_count": 16,
   "metadata": {},
   "outputs": [
    {
     "data": {
      "text/plain": [
       "'Chordata'          5550\n",
       "'Ecdysozoa'         2927\n",
       "'Lophotrochozoa'     569\n",
       "'Dikarya'            449\n",
       "'Streptophyta'       228\n",
       "                    ... \n",
       "'Isochrysidales'       1\n",
       "'Cyanoptyche']         1\n",
       "'Chrysophyceae'        1\n",
       "'Ichthyophonida'       1\n",
       "'Seculamonas']         1\n",
       "Name: 2, Length: 70, dtype: int64"
      ]
     },
     "execution_count": 16,
     "metadata": {},
     "output_type": "execute_result"
    }
   ],
   "source": [
    "new_df[2].value_counts()"
   ]
  },
  {
   "cell_type": "code",
   "execution_count": 17,
   "metadata": {},
   "outputs": [],
   "source": [
    "new_df.to_csv(r'C:\\Users\\PC\\Desktop\\MitoClub\\MtDnaInvertebrate\\Body\\2Derived\\Taxonomy.csv', sep=\"\\t\")"
   ]
  },
  {
   "cell_type": "code",
   "execution_count": null,
   "metadata": {},
   "outputs": [],
   "source": []
  }
 ],
 "metadata": {
  "kernelspec": {
   "display_name": "Python 3",
   "language": "python",
   "name": "python3"
  },
  "language_info": {
   "codemirror_mode": {
    "name": "ipython",
    "version": 3
   },
   "file_extension": ".py",
   "mimetype": "text/x-python",
   "name": "python",
   "nbconvert_exporter": "python",
   "pygments_lexer": "ipython3",
   "version": "3.9.1"
  }
 },
 "nbformat": 4,
 "nbformat_minor": 4
}
