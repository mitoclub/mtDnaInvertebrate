{
 "cells": [
  {
   "cell_type": "code",
   "execution_count": 2,
   "metadata": {},
   "outputs": [],
   "source": [
    "import pandas as pd\n",
    "import Bio as bio\n",
    "from Bio import SeqIO\n",
    "from Bio import GenBank\n",
    "import re"
   ]
  },
  {
   "cell_type": "code",
   "execution_count": 3,
   "metadata": {},
   "outputs": [],
   "source": [
    "Tax = pd.read_csv(r'C:\\Users\\PC\\Desktop\\MitoClub\\MtDnaInvertebrate\\Body\\2Derived\\MtDnaFullListWithTax.csv', sep=\";\")"
   ]
  },
  {
   "cell_type": "code",
   "execution_count": 4,
   "metadata": {},
   "outputs": [
    {
     "data": {
      "text/html": [
       "<div>\n",
       "<style scoped>\n",
       "    .dataframe tbody tr th:only-of-type {\n",
       "        vertical-align: middle;\n",
       "    }\n",
       "\n",
       "    .dataframe tbody tr th {\n",
       "        vertical-align: top;\n",
       "    }\n",
       "\n",
       "    .dataframe thead th {\n",
       "        text-align: right;\n",
       "    }\n",
       "</style>\n",
       "<table border=\"1\" class=\"dataframe\">\n",
       "  <thead>\n",
       "    <tr style=\"text-align: right;\">\n",
       "      <th></th>\n",
       "      <th>X</th>\n",
       "      <th>RefSeqID</th>\n",
       "      <th>SpeciesNames</th>\n",
       "      <th>Taxonomy</th>\n",
       "      <th>Group1</th>\n",
       "      <th>Group2</th>\n",
       "    </tr>\n",
       "  </thead>\n",
       "  <tbody>\n",
       "    <tr>\n",
       "      <th>0</th>\n",
       "      <td>1</td>\n",
       "      <td>NC_012975.1</td>\n",
       "      <td>Oryzias minutillus</td>\n",
       "      <td>[Eukaryota, Metazoa, Chordata, Craniata, Verte...</td>\n",
       "      <td>Vertebrata</td>\n",
       "      <td>Vertebrata:Actinopterygii</td>\n",
       "    </tr>\n",
       "    <tr>\n",
       "      <th>1</th>\n",
       "      <td>2</td>\n",
       "      <td>NC_012976.1</td>\n",
       "      <td>Oryzias dancena</td>\n",
       "      <td>[Eukaryota, Metazoa, Chordata, Craniata, Verte...</td>\n",
       "      <td>Vertebrata</td>\n",
       "      <td>Vertebrata:Actinopterygii</td>\n",
       "    </tr>\n",
       "    <tr>\n",
       "      <th>2</th>\n",
       "      <td>3</td>\n",
       "      <td>NC_012979.1</td>\n",
       "      <td>Oryzias luzonensis</td>\n",
       "      <td>[Eukaryota, Metazoa, Chordata, Craniata, Verte...</td>\n",
       "      <td>Vertebrata</td>\n",
       "      <td>Vertebrata:Actinopterygii</td>\n",
       "    </tr>\n",
       "    <tr>\n",
       "      <th>3</th>\n",
       "      <td>4</td>\n",
       "      <td>NC_014671.1</td>\n",
       "      <td>Ammothea carolinensis</td>\n",
       "      <td>[Eukaryota, Metazoa, Ecdysozoa, Arthropoda, Ch...</td>\n",
       "      <td>Ecdysozoa</td>\n",
       "      <td>Ecdysozoa:Chelicerata</td>\n",
       "    </tr>\n",
       "    <tr>\n",
       "      <th>4</th>\n",
       "      <td>5</td>\n",
       "      <td>NC_012981.1</td>\n",
       "      <td>Oryzias javanicus</td>\n",
       "      <td>[Eukaryota, Metazoa, Chordata, Craniata, Verte...</td>\n",
       "      <td>Vertebrata</td>\n",
       "      <td>Vertebrata:Actinopterygii</td>\n",
       "    </tr>\n",
       "  </tbody>\n",
       "</table>\n",
       "</div>"
      ],
      "text/plain": [
       "   X     RefSeqID           SpeciesNames  \\\n",
       "0  1  NC_012975.1     Oryzias minutillus   \n",
       "1  2  NC_012976.1        Oryzias dancena   \n",
       "2  3  NC_012979.1     Oryzias luzonensis   \n",
       "3  4  NC_014671.1  Ammothea carolinensis   \n",
       "4  5  NC_012981.1      Oryzias javanicus   \n",
       "\n",
       "                                            Taxonomy      Group1  \\\n",
       "0  [Eukaryota, Metazoa, Chordata, Craniata, Verte...  Vertebrata   \n",
       "1  [Eukaryota, Metazoa, Chordata, Craniata, Verte...  Vertebrata   \n",
       "2  [Eukaryota, Metazoa, Chordata, Craniata, Verte...  Vertebrata   \n",
       "3  [Eukaryota, Metazoa, Ecdysozoa, Arthropoda, Ch...   Ecdysozoa   \n",
       "4  [Eukaryota, Metazoa, Chordata, Craniata, Verte...  Vertebrata   \n",
       "\n",
       "                      Group2  \n",
       "0  Vertebrata:Actinopterygii  \n",
       "1  Vertebrata:Actinopterygii  \n",
       "2  Vertebrata:Actinopterygii  \n",
       "3      Ecdysozoa:Chelicerata  \n",
       "4  Vertebrata:Actinopterygii  "
      ]
     },
     "execution_count": 4,
     "metadata": {},
     "output_type": "execute_result"
    }
   ],
   "source": [
    "Tax.head()"
   ]
  },
  {
   "cell_type": "code",
   "execution_count": 5,
   "metadata": {},
   "outputs": [
    {
     "name": "stderr",
     "output_type": "stream",
     "text": [
      "C:\\Users\\PC\\AppData\\Local\\Packages\\PythonSoftwareFoundation.Python.3.8_qbz5n2kfra8p0\\LocalCache\\local-packages\\Python38\\site-packages\\Bio\\GenBank\\Scanner.py:1806: BiopythonParserWarning: Structured comment not parsed for NC_037498. Is it malformed?\n",
      "  warnings.warn(\n",
      "C:\\Users\\PC\\AppData\\Local\\Packages\\PythonSoftwareFoundation.Python.3.8_qbz5n2kfra8p0\\LocalCache\\local-packages\\Python38\\site-packages\\Bio\\GenBank\\Scanner.py:1806: BiopythonParserWarning: Structured comment not parsed for NC_037499. Is it malformed?\n",
      "  warnings.warn(\n",
      "C:\\Users\\PC\\AppData\\Local\\Packages\\PythonSoftwareFoundation.Python.3.8_qbz5n2kfra8p0\\LocalCache\\local-packages\\Python38\\site-packages\\Bio\\GenBank\\Scanner.py:1806: BiopythonParserWarning: Structured comment not parsed for NC_037500. Is it malformed?\n",
      "  warnings.warn(\n"
     ]
    }
   ],
   "source": [
    "ids = [seq_record.id for seq_record in SeqIO.parse(r\"C:\\Users\\PC\\Desktop\\MitoClub\\mtDnaInvertebrate\\Body\\1Raw\\mitochondrion.genomic.gbff\", \"genbank\")]"
   ]
  },
  {
   "cell_type": "code",
   "execution_count": 6,
   "metadata": {},
   "outputs": [
    {
     "name": "stdout",
     "output_type": "stream",
     "text": [
      "10664\n"
     ]
    }
   ],
   "source": [
    "print(len(ids))"
   ]
  },
  {
   "cell_type": "code",
   "execution_count": 7,
   "metadata": {},
   "outputs": [],
   "source": [
    "d = {\"RefSeqID\":pd.Series(ids, index=range(1,10665))}\n",
    "MtDnaList = pd.DataFrame(d)"
   ]
  },
  {
   "cell_type": "code",
   "execution_count": 8,
   "metadata": {},
   "outputs": [],
   "source": [
    "MtDnaList['Num_A'] = [seq_record.seq.count(\"A\") for seq_record in SeqIO.parse(r\"C:\\Users\\PC\\Desktop\\MitoClub\\mtDnaInvertebrate\\Body\\1Raw\\mitochondrion.genomic.gbff\", \"genbank\")]"
   ]
  },
  {
   "cell_type": "code",
   "execution_count": 9,
   "metadata": {},
   "outputs": [],
   "source": [
    "MtDnaList['Num_T'] = [seq_record.seq.count(\"T\") for seq_record in SeqIO.parse(r\"C:\\Users\\PC\\Desktop\\MitoClub\\mtDnaInvertebrate\\Body\\1Raw\\mitochondrion.genomic.gbff\", \"genbank\")]\n",
    "MtDnaList['Num_G'] = [seq_record.seq.count(\"G\") for seq_record in SeqIO.parse(r\"C:\\Users\\PC\\Desktop\\MitoClub\\mtDnaInvertebrate\\Body\\1Raw\\mitochondrion.genomic.gbff\", \"genbank\")]\n",
    "MtDnaList['Num_C'] = [seq_record.seq.count(\"C\") for seq_record in SeqIO.parse(r\"C:\\Users\\PC\\Desktop\\MitoClub\\mtDnaInvertebrate\\Body\\1Raw\\mitochondrion.genomic.gbff\", \"genbank\")]"
   ]
  },
  {
   "cell_type": "code",
   "execution_count": 14,
   "metadata": {},
   "outputs": [
    {
     "data": {
      "text/html": [
       "<div>\n",
       "<style scoped>\n",
       "    .dataframe tbody tr th:only-of-type {\n",
       "        vertical-align: middle;\n",
       "    }\n",
       "\n",
       "    .dataframe tbody tr th {\n",
       "        vertical-align: top;\n",
       "    }\n",
       "\n",
       "    .dataframe thead th {\n",
       "        text-align: right;\n",
       "    }\n",
       "</style>\n",
       "<table border=\"1\" class=\"dataframe\">\n",
       "  <thead>\n",
       "    <tr style=\"text-align: right;\">\n",
       "      <th></th>\n",
       "      <th>RefSeqID</th>\n",
       "      <th>Num_A</th>\n",
       "      <th>Num_T</th>\n",
       "      <th>Num_G</th>\n",
       "      <th>Num_C</th>\n",
       "      <th>Lenght</th>\n",
       "      <th>%A</th>\n",
       "      <th>%T</th>\n",
       "      <th>%G</th>\n",
       "      <th>%C</th>\n",
       "    </tr>\n",
       "  </thead>\n",
       "  <tbody>\n",
       "    <tr>\n",
       "      <th>1</th>\n",
       "      <td>NC_012975.1</td>\n",
       "      <td>4969</td>\n",
       "      <td>4978</td>\n",
       "      <td>2935</td>\n",
       "      <td>4071</td>\n",
       "      <td>16953</td>\n",
       "      <td>29.310447</td>\n",
       "      <td>29.363534</td>\n",
       "      <td>17.312570</td>\n",
       "      <td>24.013449</td>\n",
       "    </tr>\n",
       "    <tr>\n",
       "      <th>2</th>\n",
       "      <td>NC_012976.1</td>\n",
       "      <td>4888</td>\n",
       "      <td>5168</td>\n",
       "      <td>2778</td>\n",
       "      <td>4029</td>\n",
       "      <td>16863</td>\n",
       "      <td>28.986539</td>\n",
       "      <td>30.646979</td>\n",
       "      <td>16.473937</td>\n",
       "      <td>23.892546</td>\n",
       "    </tr>\n",
       "    <tr>\n",
       "      <th>3</th>\n",
       "      <td>NC_012979.1</td>\n",
       "      <td>4403</td>\n",
       "      <td>4556</td>\n",
       "      <td>3103</td>\n",
       "      <td>4604</td>\n",
       "      <td>16666</td>\n",
       "      <td>26.419057</td>\n",
       "      <td>27.337093</td>\n",
       "      <td>18.618745</td>\n",
       "      <td>27.625105</td>\n",
       "    </tr>\n",
       "    <tr>\n",
       "      <th>4</th>\n",
       "      <td>NC_014671.1</td>\n",
       "      <td>6379</td>\n",
       "      <td>5767</td>\n",
       "      <td>1121</td>\n",
       "      <td>1834</td>\n",
       "      <td>15101</td>\n",
       "      <td>42.242236</td>\n",
       "      <td>38.189524</td>\n",
       "      <td>7.423349</td>\n",
       "      <td>12.144891</td>\n",
       "    </tr>\n",
       "    <tr>\n",
       "      <th>5</th>\n",
       "      <td>NC_012981.1</td>\n",
       "      <td>4523</td>\n",
       "      <td>4616</td>\n",
       "      <td>3004</td>\n",
       "      <td>4749</td>\n",
       "      <td>16892</td>\n",
       "      <td>26.775989</td>\n",
       "      <td>27.326545</td>\n",
       "      <td>17.783566</td>\n",
       "      <td>28.113900</td>\n",
       "    </tr>\n",
       "  </tbody>\n",
       "</table>\n",
       "</div>"
      ],
      "text/plain": [
       "      RefSeqID  Num_A  Num_T  Num_G  Num_C  Lenght         %A         %T  \\\n",
       "1  NC_012975.1   4969   4978   2935   4071   16953  29.310447  29.363534   \n",
       "2  NC_012976.1   4888   5168   2778   4029   16863  28.986539  30.646979   \n",
       "3  NC_012979.1   4403   4556   3103   4604   16666  26.419057  27.337093   \n",
       "4  NC_014671.1   6379   5767   1121   1834   15101  42.242236  38.189524   \n",
       "5  NC_012981.1   4523   4616   3004   4749   16892  26.775989  27.326545   \n",
       "\n",
       "          %G         %C  \n",
       "1  17.312570  24.013449  \n",
       "2  16.473937  23.892546  \n",
       "3  18.618745  27.625105  \n",
       "4   7.423349  12.144891  \n",
       "5  17.783566  28.113900  "
      ]
     },
     "execution_count": 14,
     "metadata": {},
     "output_type": "execute_result"
    }
   ],
   "source": [
    "MtDnaList.head()"
   ]
  },
  {
   "cell_type": "code",
   "execution_count": 11,
   "metadata": {},
   "outputs": [
    {
     "name": "stderr",
     "output_type": "stream",
     "text": [
      "C:\\Users\\PC\\AppData\\Local\\Packages\\PythonSoftwareFoundation.Python.3.8_qbz5n2kfra8p0\\LocalCache\\local-packages\\Python38\\site-packages\\Bio\\GenBank\\Scanner.py:1806: BiopythonParserWarning: Structured comment not parsed for NC_037498. Is it malformed?\n",
      "  warnings.warn(\n",
      "C:\\Users\\PC\\AppData\\Local\\Packages\\PythonSoftwareFoundation.Python.3.8_qbz5n2kfra8p0\\LocalCache\\local-packages\\Python38\\site-packages\\Bio\\GenBank\\Scanner.py:1806: BiopythonParserWarning: Structured comment not parsed for NC_037499. Is it malformed?\n",
      "  warnings.warn(\n",
      "C:\\Users\\PC\\AppData\\Local\\Packages\\PythonSoftwareFoundation.Python.3.8_qbz5n2kfra8p0\\LocalCache\\local-packages\\Python38\\site-packages\\Bio\\GenBank\\Scanner.py:1806: BiopythonParserWarning: Structured comment not parsed for NC_037500. Is it malformed?\n",
      "  warnings.warn(\n"
     ]
    }
   ],
   "source": [
    "MtDnaList['Lenght'] = [len(seq_record) for seq_record in SeqIO.parse(r\"C:\\Users\\PC\\Desktop\\MitoClub\\mtDnaInvertebrate\\Body\\1Raw\\mitochondrion.genomic.gbff\", \"genbank\")]"
   ]
  },
  {
   "cell_type": "code",
   "execution_count": 13,
   "metadata": {},
   "outputs": [],
   "source": [
    "MtDnaList['%A'] = 100 * MtDnaList['Num_A'] / MtDnaList['Lenght']\n",
    "MtDnaList['%T'] = 100 * MtDnaList['Num_T'] / MtDnaList['Lenght']\n",
    "MtDnaList['%G'] = 100 * MtDnaList['Num_G'] / MtDnaList['Lenght']\n",
    "MtDnaList['%C'] = 100 * MtDnaList['Num_C'] / MtDnaList['Lenght']"
   ]
  },
  {
   "cell_type": "code",
   "execution_count": null,
   "metadata": {},
   "outputs": [],
   "source": []
  },
  {
   "cell_type": "code",
   "execution_count": 15,
   "metadata": {},
   "outputs": [],
   "source": [
    "Tax = Tax.merge(MtDnaList, how='outer')"
   ]
  },
  {
   "cell_type": "code",
   "execution_count": 16,
   "metadata": {},
   "outputs": [],
   "source": [
    "Tax.to_csv(r'C:\\Users\\PC\\Desktop\\MitoClub\\MtDnaInvertebrate\\Body\\2Derived\\MtDnaWithParGen.csv', sep=\";\")"
   ]
  }
 ],
 "metadata": {
  "kernelspec": {
   "display_name": "Python 3",
   "language": "python",
   "name": "python3"
  },
  "language_info": {
   "codemirror_mode": {
    "name": "ipython",
    "version": 3
   },
   "file_extension": ".py",
   "mimetype": "text/x-python",
   "name": "python",
   "nbconvert_exporter": "python",
   "pygments_lexer": "ipython3",
   "version": "3.8.6"
  }
 },
 "nbformat": 4,
 "nbformat_minor": 4
}
