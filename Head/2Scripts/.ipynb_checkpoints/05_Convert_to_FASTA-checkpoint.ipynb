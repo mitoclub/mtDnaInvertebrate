{
 "cells": [
  {
   "cell_type": "code",
   "execution_count": 1,
   "metadata": {},
   "outputs": [],
   "source": [
    "from Bio import SeqIO"
   ]
  },
  {
   "cell_type": "code",
   "execution_count": 7,
   "metadata": {},
   "outputs": [
    {
     "name": "stderr",
     "output_type": "stream",
     "text": [
      "<ipython-input-7-4f3c6868a7a6>:1: DeprecationWarning: 'U' mode is deprecated\n",
      "  with open('/home/emulciber/MitoClub/mtDnaInvertebrate/Body/1Raw/mitochondrion.genomic.gbff', \"rU\") as input_handle:\n"
     ]
    }
   ],
   "source": [
    "### НЕ РАБОТАЕТ, ОШИБКИ\n",
    "with open('/home/emulciber/MitoClub/mtDnaInvertebrate/Body/1Raw/mitochondrion.genomic.gbff', \"rU\") as input_handle:\n",
    "    with open('/home/emulciber/MitoClub/mtDnaInvertebrate/Body/2Derived/mitochondrion.genomic.fasta', \"w\") as output_handle:\n",
    "        try:\n",
    "            sequences = SeqIO.parse(input_handle, \"genbank\")\n",
    "            count = SeqIO.write(sequences, output_handle, \"fasta\")\n",
    "        except:\n",
    "            None"
   ]
  }
 ],
 "metadata": {
  "kernelspec": {
   "display_name": "Python 3",
   "language": "python",
   "name": "python3"
  },
  "language_info": {
   "codemirror_mode": {
    "name": "ipython",
    "version": 3
   },
   "file_extension": ".py",
   "mimetype": "text/x-python",
   "name": "python",
   "nbconvert_exporter": "python",
   "pygments_lexer": "ipython3",
   "version": "3.8.8"
  }
 },
 "nbformat": 4,
 "nbformat_minor": 4
}
