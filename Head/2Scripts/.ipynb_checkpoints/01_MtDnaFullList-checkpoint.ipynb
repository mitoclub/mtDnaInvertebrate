{
 "cells": [
  {
   "cell_type": "code",
   "execution_count": 9,
   "metadata": {},
   "outputs": [],
   "source": [
    "import pandas as pd\n",
    "import Bio as bio\n",
    "from Bio import SeqIO\n",
    "from Bio import GenBank\n",
    "import re\n",
    "import numpy as np"
   ]
  },
  {
   "cell_type": "code",
   "execution_count": 10,
   "metadata": {},
   "outputs": [
    {
     "name": "stdout",
     "output_type": "stream",
     "text": [
      "1.79\n"
     ]
    }
   ],
   "source": [
    "print (bio.__version__)"
   ]
  },
  {
   "cell_type": "code",
   "execution_count": 11,
   "metadata": {},
   "outputs": [
    {
     "data": {
      "text/plain": [
       "860226245"
      ]
     },
     "execution_count": 11,
     "metadata": {},
     "output_type": "execute_result"
    }
   ],
   "source": [
    "open('/home/emulciber/MitoClub/mtDnaInvertebrate/Body/1Raw/mitochondrion.genomic.gbff',\"w\").write(open('/home/emulciber/MitoClub/mtDnaInvertebrate/Body/1Raw/mitochondrion.1.genomic.gbff',\"r\").read() + open('/home/emulciber/MitoClub/mtDnaInvertebrate/Body/1Raw/mitochondrion.2.genomic.gbff',\"r\").read())"
   ]
  },
  {
   "cell_type": "code",
   "execution_count": 12,
   "metadata": {},
   "outputs": [
    {
     "name": "stderr",
     "output_type": "stream",
     "text": [
      "/home/emulciber/anaconda3/lib/python3.8/site-packages/Bio/GenBank/Scanner.py:1794: BiopythonParserWarning: Structured comment not parsed for NC_037498. Is it malformed?\n",
      "  warnings.warn(\n",
      "/home/emulciber/anaconda3/lib/python3.8/site-packages/Bio/GenBank/Scanner.py:1794: BiopythonParserWarning: Structured comment not parsed for NC_037499. Is it malformed?\n",
      "  warnings.warn(\n",
      "/home/emulciber/anaconda3/lib/python3.8/site-packages/Bio/GenBank/Scanner.py:1794: BiopythonParserWarning: Structured comment not parsed for NC_037500. Is it malformed?\n",
      "  warnings.warn(\n",
      "/home/emulciber/anaconda3/lib/python3.8/site-packages/Bio/GenBank/Scanner.py:1794: BiopythonParserWarning: Structured comment not parsed for NC_057213. Is it malformed?\n",
      "  warnings.warn(\n",
      "/home/emulciber/anaconda3/lib/python3.8/site-packages/Bio/GenBank/Scanner.py:1794: BiopythonParserWarning: Structured comment not parsed for NC_057212. Is it malformed?\n",
      "  warnings.warn(\n",
      "/home/emulciber/anaconda3/lib/python3.8/site-packages/Bio/GenBank/Scanner.py:1794: BiopythonParserWarning: Structured comment not parsed for NC_057211. Is it malformed?\n",
      "  warnings.warn(\n",
      "/home/emulciber/anaconda3/lib/python3.8/site-packages/Bio/GenBank/Scanner.py:1794: BiopythonParserWarning: Structured comment not parsed for NC_057214. Is it malformed?\n",
      "  warnings.warn(\n"
     ]
    }
   ],
   "source": [
    "ids = [seq_record.id for seq_record in SeqIO.parse('/home/emulciber/MitoClub/mtDnaInvertebrate/Body/1Raw/mitochondrion.genomic.gbff', \"genbank\")]"
   ]
  },
  {
   "cell_type": "code",
   "execution_count": 13,
   "metadata": {},
   "outputs": [
    {
     "name": "stdout",
     "output_type": "stream",
     "text": [
      "12173\n"
     ]
    }
   ],
   "source": [
    "print(len(ids))"
   ]
  },
  {
   "cell_type": "code",
   "execution_count": 14,
   "metadata": {},
   "outputs": [],
   "source": [
    "d = {\"RefSeqID\":pd.Series(ids, index=range(0,len(ids)))}\n",
    "MtDnaFullList = pd.DataFrame(d)"
   ]
  },
  {
   "cell_type": "code",
   "execution_count": 20,
   "metadata": {},
   "outputs": [
    {
     "data": {
      "text/html": [
       "<div>\n",
       "<style scoped>\n",
       "    .dataframe tbody tr th:only-of-type {\n",
       "        vertical-align: middle;\n",
       "    }\n",
       "\n",
       "    .dataframe tbody tr th {\n",
       "        vertical-align: top;\n",
       "    }\n",
       "\n",
       "    .dataframe thead th {\n",
       "        text-align: right;\n",
       "    }\n",
       "</style>\n",
       "<table border=\"1\" class=\"dataframe\">\n",
       "  <thead>\n",
       "    <tr style=\"text-align: right;\">\n",
       "      <th></th>\n",
       "      <th>RefSeqID</th>\n",
       "      <th>SpeciesNames</th>\n",
       "    </tr>\n",
       "  </thead>\n",
       "  <tbody>\n",
       "    <tr>\n",
       "      <th>0</th>\n",
       "      <td>NC_012975.1</td>\n",
       "      <td>Oryzias minutillus</td>\n",
       "    </tr>\n",
       "    <tr>\n",
       "      <th>1</th>\n",
       "      <td>NC_012976.1</td>\n",
       "      <td>Oryzias dancena</td>\n",
       "    </tr>\n",
       "    <tr>\n",
       "      <th>2</th>\n",
       "      <td>NC_012979.1</td>\n",
       "      <td>Oryzias luzonensis</td>\n",
       "    </tr>\n",
       "    <tr>\n",
       "      <th>3</th>\n",
       "      <td>NC_014671.1</td>\n",
       "      <td>Ammothea carolinensis</td>\n",
       "    </tr>\n",
       "    <tr>\n",
       "      <th>4</th>\n",
       "      <td>NC_012981.1</td>\n",
       "      <td>Oryzias javanicus</td>\n",
       "    </tr>\n",
       "    <tr>\n",
       "      <th>...</th>\n",
       "      <td>...</td>\n",
       "      <td>...</td>\n",
       "    </tr>\n",
       "    <tr>\n",
       "      <th>12168</th>\n",
       "      <td>NC_022255.1</td>\n",
       "      <td>Microchloropsis salina</td>\n",
       "    </tr>\n",
       "    <tr>\n",
       "      <th>12169</th>\n",
       "      <td>NC_022256.1</td>\n",
       "      <td>Nannochloropsis limnetica</td>\n",
       "    </tr>\n",
       "    <tr>\n",
       "      <th>12170</th>\n",
       "      <td>NC_022257.1</td>\n",
       "      <td>Nannochloropsis oculata</td>\n",
       "    </tr>\n",
       "    <tr>\n",
       "      <th>12171</th>\n",
       "      <td>NC_013704.1</td>\n",
       "      <td>Tanakia koreensis</td>\n",
       "    </tr>\n",
       "    <tr>\n",
       "      <th>12172</th>\n",
       "      <td>NC_013705.1</td>\n",
       "      <td>Acheilognathus intermedia</td>\n",
       "    </tr>\n",
       "  </tbody>\n",
       "</table>\n",
       "<p>12173 rows × 2 columns</p>\n",
       "</div>"
      ],
      "text/plain": [
       "          RefSeqID               SpeciesNames\n",
       "0      NC_012975.1         Oryzias minutillus\n",
       "1      NC_012976.1            Oryzias dancena\n",
       "2      NC_012979.1         Oryzias luzonensis\n",
       "3      NC_014671.1      Ammothea carolinensis\n",
       "4      NC_012981.1          Oryzias javanicus\n",
       "...            ...                        ...\n",
       "12168  NC_022255.1     Microchloropsis salina\n",
       "12169  NC_022256.1  Nannochloropsis limnetica\n",
       "12170  NC_022257.1    Nannochloropsis oculata\n",
       "12171  NC_013704.1          Tanakia koreensis\n",
       "12172  NC_013705.1  Acheilognathus intermedia\n",
       "\n",
       "[12173 rows x 2 columns]"
      ]
     },
     "execution_count": 20,
     "metadata": {},
     "output_type": "execute_result"
    }
   ],
   "source": [
    "MtDnaFullList"
   ]
  },
  {
   "cell_type": "code",
   "execution_count": 21,
   "metadata": {},
   "outputs": [
    {
     "name": "stderr",
     "output_type": "stream",
     "text": [
      "/home/emulciber/anaconda3/lib/python3.8/site-packages/Bio/GenBank/Scanner.py:1794: BiopythonParserWarning: Structured comment not parsed for NC_037498. Is it malformed?\n",
      "  warnings.warn(\n",
      "/home/emulciber/anaconda3/lib/python3.8/site-packages/Bio/GenBank/Scanner.py:1794: BiopythonParserWarning: Structured comment not parsed for NC_037499. Is it malformed?\n",
      "  warnings.warn(\n",
      "/home/emulciber/anaconda3/lib/python3.8/site-packages/Bio/GenBank/Scanner.py:1794: BiopythonParserWarning: Structured comment not parsed for NC_037500. Is it malformed?\n",
      "  warnings.warn(\n",
      "/home/emulciber/anaconda3/lib/python3.8/site-packages/Bio/GenBank/Scanner.py:1794: BiopythonParserWarning: Structured comment not parsed for NC_057213. Is it malformed?\n",
      "  warnings.warn(\n",
      "/home/emulciber/anaconda3/lib/python3.8/site-packages/Bio/GenBank/Scanner.py:1794: BiopythonParserWarning: Structured comment not parsed for NC_057212. Is it malformed?\n",
      "  warnings.warn(\n",
      "/home/emulciber/anaconda3/lib/python3.8/site-packages/Bio/GenBank/Scanner.py:1794: BiopythonParserWarning: Structured comment not parsed for NC_057211. Is it malformed?\n",
      "  warnings.warn(\n",
      "/home/emulciber/anaconda3/lib/python3.8/site-packages/Bio/GenBank/Scanner.py:1794: BiopythonParserWarning: Structured comment not parsed for NC_057214. Is it malformed?\n",
      "  warnings.warn(\n"
     ]
    }
   ],
   "source": [
    "MtDnaFullList['SpeciesNames'] = [seq_record.annotations[\"organism\"] for seq_record in SeqIO.parse('/home/emulciber/MitoClub/mtDnaInvertebrate/Body/1Raw/mitochondrion.genomic.gbff', \"genbank\")]"
   ]
  },
  {
   "cell_type": "code",
   "execution_count": 22,
   "metadata": {},
   "outputs": [],
   "source": [
    "MtDnaFullList['Taxonomy'] = [seq_record.annotations[\"taxonomy\"] for seq_record in SeqIO.parse('/home/emulciber/MitoClub/mtDnaInvertebrate/Body/1Raw/mitochondrion.genomic.gbff', \"genbank\")]"
   ]
  },
  {
   "cell_type": "code",
   "execution_count": 23,
   "metadata": {},
   "outputs": [
    {
     "data": {
      "text/html": [
       "<div>\n",
       "<style scoped>\n",
       "    .dataframe tbody tr th:only-of-type {\n",
       "        vertical-align: middle;\n",
       "    }\n",
       "\n",
       "    .dataframe tbody tr th {\n",
       "        vertical-align: top;\n",
       "    }\n",
       "\n",
       "    .dataframe thead th {\n",
       "        text-align: right;\n",
       "    }\n",
       "</style>\n",
       "<table border=\"1\" class=\"dataframe\">\n",
       "  <thead>\n",
       "    <tr style=\"text-align: right;\">\n",
       "      <th></th>\n",
       "      <th>RefSeqID</th>\n",
       "      <th>SpeciesNames</th>\n",
       "      <th>Taxonomy</th>\n",
       "    </tr>\n",
       "  </thead>\n",
       "  <tbody>\n",
       "    <tr>\n",
       "      <th>0</th>\n",
       "      <td>NC_012975.1</td>\n",
       "      <td>Oryzias minutillus</td>\n",
       "      <td>[Eukaryota, Metazoa, Chordata, Craniata, Verte...</td>\n",
       "    </tr>\n",
       "    <tr>\n",
       "      <th>1</th>\n",
       "      <td>NC_012976.1</td>\n",
       "      <td>Oryzias dancena</td>\n",
       "      <td>[Eukaryota, Metazoa, Chordata, Craniata, Verte...</td>\n",
       "    </tr>\n",
       "    <tr>\n",
       "      <th>2</th>\n",
       "      <td>NC_012979.1</td>\n",
       "      <td>Oryzias luzonensis</td>\n",
       "      <td>[Eukaryota, Metazoa, Chordata, Craniata, Verte...</td>\n",
       "    </tr>\n",
       "    <tr>\n",
       "      <th>3</th>\n",
       "      <td>NC_014671.1</td>\n",
       "      <td>Ammothea carolinensis</td>\n",
       "      <td>[Eukaryota, Metazoa, Ecdysozoa, Arthropoda, Ch...</td>\n",
       "    </tr>\n",
       "    <tr>\n",
       "      <th>4</th>\n",
       "      <td>NC_012981.1</td>\n",
       "      <td>Oryzias javanicus</td>\n",
       "      <td>[Eukaryota, Metazoa, Chordata, Craniata, Verte...</td>\n",
       "    </tr>\n",
       "  </tbody>\n",
       "</table>\n",
       "</div>"
      ],
      "text/plain": [
       "      RefSeqID           SpeciesNames  \\\n",
       "0  NC_012975.1     Oryzias minutillus   \n",
       "1  NC_012976.1        Oryzias dancena   \n",
       "2  NC_012979.1     Oryzias luzonensis   \n",
       "3  NC_014671.1  Ammothea carolinensis   \n",
       "4  NC_012981.1      Oryzias javanicus   \n",
       "\n",
       "                                            Taxonomy  \n",
       "0  [Eukaryota, Metazoa, Chordata, Craniata, Verte...  \n",
       "1  [Eukaryota, Metazoa, Chordata, Craniata, Verte...  \n",
       "2  [Eukaryota, Metazoa, Chordata, Craniata, Verte...  \n",
       "3  [Eukaryota, Metazoa, Ecdysozoa, Arthropoda, Ch...  \n",
       "4  [Eukaryota, Metazoa, Chordata, Craniata, Verte...  "
      ]
     },
     "execution_count": 23,
     "metadata": {},
     "output_type": "execute_result"
    }
   ],
   "source": [
    "MtDnaFullList.head()"
   ]
  },
  {
   "cell_type": "code",
   "execution_count": 25,
   "metadata": {},
   "outputs": [],
   "source": [
    "MtDnaFullList.to_csv('/home/emulciber/MitoClub/mtDnaInvertebrate/Body/2Derived/01_MtDnaFullList.csv', sep=\";\")"
   ]
  },
  {
   "cell_type": "code",
   "execution_count": null,
   "metadata": {},
   "outputs": [],
   "source": [
    "## подсчет геномных характеристик"
   ]
  },
  {
   "cell_type": "code",
   "execution_count": null,
   "metadata": {},
   "outputs": [],
   "source": [
    "MtDnaFullList['Lenght'] = [len(seq_record) for seq_record in SeqIO.parse('/home/emulciber/MitoClub/mtDnaInvertebrate/Body/1Raw/mitochondrion.genomic.gbff', \"genbank\")]"
   ]
  },
  {
   "cell_type": "code",
   "execution_count": null,
   "metadata": {},
   "outputs": [],
   "source": [
    "MtDnaFullList['Num_A'] = [seq_record.seq.count(\"A\") for seq_record in SeqIO.parse(r\"C:\\Users\\PC\\Desktop\\MitoClub\\mtDnaInvertebrate\\Body\\1Raw\\mitochondrion.genomic.gbff\", \"genbank\")]\n",
    "MtDnaFullList['Num_T'] = [seq_record.seq.count(\"T\") for seq_record in SeqIO.parse(r\"C:\\Users\\PC\\Desktop\\MitoClub\\mtDnaInvertebrate\\Body\\1Raw\\mitochondrion.genomic.gbff\", \"genbank\")]\n",
    "MtDnaFullList['Num_G'] = [seq_record.seq.count(\"G\") for seq_record in SeqIO.parse(r\"C:\\Users\\PC\\Desktop\\MitoClub\\mtDnaInvertebrate\\Body\\1Raw\\mitochondrion.genomic.gbff\", \"genbank\")]\n",
    "MtDnaFullList['Num_C'] = [seq_record.seq.count(\"C\") for seq_record in SeqIO.parse(r\"C:\\Users\\PC\\Desktop\\MitoClub\\mtDnaInvertebrate\\Body\\1Raw\\mitochondrion.genomic.gbff\", \"genbank\")]"
   ]
  },
  {
   "cell_type": "code",
   "execution_count": 34,
   "metadata": {},
   "outputs": [],
   "source": [
    "MtDnaFullList['%A'] = 100 * MtDnaFullList['Num_A'] / MtDnaFullList['Lenght']\n",
    "MtDnaFullList['%T'] = 100 * MtDnaFullList['Num_T'] / MtDnaFullList['Lenght']\n",
    "MtDnaFullList['%G'] = 100 * MtDnaFullList['Num_G'] / MtDnaFullList['Lenght']\n",
    "MtDnaFullList['%C'] = 100 * MtDnaFullList['Num_C'] / MtDnaFullList['Lenght']"
   ]
  },
  {
   "cell_type": "code",
   "execution_count": 35,
   "metadata": {},
   "outputs": [],
   "source": [
    "MtDnaFullList['GC'] = MtDnaFullList['%G'] + MtDnaFullList['%C']"
   ]
  },
  {
   "cell_type": "code",
   "execution_count": 39,
   "metadata": {},
   "outputs": [],
   "source": [
    "MtDnaFullList = MtDnaFullList.drop(np.where(MtDnaFullList['GC'] == 0)[0])"
   ]
  },
  {
   "cell_type": "code",
   "execution_count": 41,
   "metadata": {},
   "outputs": [],
   "source": [
    "MtDnaFullList['log2Lenght'] = np.log2(MtDnaFullList['Lenght'])"
   ]
  },
  {
   "cell_type": "code",
   "execution_count": 44,
   "metadata": {},
   "outputs": [],
   "source": []
  },
  {
   "cell_type": "code",
   "execution_count": 1,
   "metadata": {},
   "outputs": [],
   "source": [
    "## отдельный файл с таксономией"
   ]
  },
  {
   "cell_type": "code",
   "execution_count": 4,
   "metadata": {},
   "outputs": [],
   "source": [
    "MtDnaFullList = pd.read_csv(r'C:\\Users\\PC\\Desktop\\MitoClub\\MtDnaInvertebrate\\Body\\2Derived\\MtDnaFullList.csv', sep=\"\\t\")"
   ]
  },
  {
   "cell_type": "code",
   "execution_count": 5,
   "metadata": {},
   "outputs": [],
   "source": [
    "new_df = MtDnaFullList['Taxonomy'].str.split(', ',expand=True)"
   ]
  },
  {
   "cell_type": "code",
   "execution_count": 6,
   "metadata": {
    "scrolled": true
   },
   "outputs": [
    {
     "data": {
      "text/html": [
       "<div>\n",
       "<style scoped>\n",
       "    .dataframe tbody tr th:only-of-type {\n",
       "        vertical-align: middle;\n",
       "    }\n",
       "\n",
       "    .dataframe tbody tr th {\n",
       "        vertical-align: top;\n",
       "    }\n",
       "\n",
       "    .dataframe thead th {\n",
       "        text-align: right;\n",
       "    }\n",
       "</style>\n",
       "<table border=\"1\" class=\"dataframe\">\n",
       "  <thead>\n",
       "    <tr style=\"text-align: right;\">\n",
       "      <th></th>\n",
       "      <th>0</th>\n",
       "      <th>1</th>\n",
       "      <th>2</th>\n",
       "      <th>3</th>\n",
       "      <th>4</th>\n",
       "      <th>5</th>\n",
       "      <th>6</th>\n",
       "      <th>7</th>\n",
       "      <th>8</th>\n",
       "      <th>9</th>\n",
       "      <th>...</th>\n",
       "      <th>11</th>\n",
       "      <th>12</th>\n",
       "      <th>13</th>\n",
       "      <th>14</th>\n",
       "      <th>15</th>\n",
       "      <th>16</th>\n",
       "      <th>17</th>\n",
       "      <th>18</th>\n",
       "      <th>19</th>\n",
       "      <th>20</th>\n",
       "    </tr>\n",
       "  </thead>\n",
       "  <tbody>\n",
       "    <tr>\n",
       "      <th>0</th>\n",
       "      <td>['Eukaryota'</td>\n",
       "      <td>'Metazoa'</td>\n",
       "      <td>'Chordata'</td>\n",
       "      <td>'Craniata'</td>\n",
       "      <td>'Vertebrata'</td>\n",
       "      <td>'Euteleostomi'</td>\n",
       "      <td>'Actinopterygii'</td>\n",
       "      <td>'Neopterygii'</td>\n",
       "      <td>'Teleostei'</td>\n",
       "      <td>'Neoteleostei'</td>\n",
       "      <td>...</td>\n",
       "      <td>'Ovalentaria'</td>\n",
       "      <td>'Atherinomorphae'</td>\n",
       "      <td>'Beloniformes'</td>\n",
       "      <td>'Adrianichthyidae'</td>\n",
       "      <td>'Oryziinae'</td>\n",
       "      <td>'Oryzias']</td>\n",
       "      <td>None</td>\n",
       "      <td>None</td>\n",
       "      <td>None</td>\n",
       "      <td>None</td>\n",
       "    </tr>\n",
       "    <tr>\n",
       "      <th>1</th>\n",
       "      <td>['Eukaryota'</td>\n",
       "      <td>'Metazoa'</td>\n",
       "      <td>'Chordata'</td>\n",
       "      <td>'Craniata'</td>\n",
       "      <td>'Vertebrata'</td>\n",
       "      <td>'Euteleostomi'</td>\n",
       "      <td>'Actinopterygii'</td>\n",
       "      <td>'Neopterygii'</td>\n",
       "      <td>'Teleostei'</td>\n",
       "      <td>'Neoteleostei'</td>\n",
       "      <td>...</td>\n",
       "      <td>'Ovalentaria'</td>\n",
       "      <td>'Atherinomorphae'</td>\n",
       "      <td>'Beloniformes'</td>\n",
       "      <td>'Adrianichthyidae'</td>\n",
       "      <td>'Oryziinae'</td>\n",
       "      <td>'Oryzias']</td>\n",
       "      <td>None</td>\n",
       "      <td>None</td>\n",
       "      <td>None</td>\n",
       "      <td>None</td>\n",
       "    </tr>\n",
       "    <tr>\n",
       "      <th>2</th>\n",
       "      <td>['Eukaryota'</td>\n",
       "      <td>'Metazoa'</td>\n",
       "      <td>'Chordata'</td>\n",
       "      <td>'Craniata'</td>\n",
       "      <td>'Vertebrata'</td>\n",
       "      <td>'Euteleostomi'</td>\n",
       "      <td>'Actinopterygii'</td>\n",
       "      <td>'Neopterygii'</td>\n",
       "      <td>'Teleostei'</td>\n",
       "      <td>'Neoteleostei'</td>\n",
       "      <td>...</td>\n",
       "      <td>'Ovalentaria'</td>\n",
       "      <td>'Atherinomorphae'</td>\n",
       "      <td>'Beloniformes'</td>\n",
       "      <td>'Adrianichthyidae'</td>\n",
       "      <td>'Oryziinae'</td>\n",
       "      <td>'Oryzias']</td>\n",
       "      <td>None</td>\n",
       "      <td>None</td>\n",
       "      <td>None</td>\n",
       "      <td>None</td>\n",
       "    </tr>\n",
       "    <tr>\n",
       "      <th>3</th>\n",
       "      <td>['Eukaryota'</td>\n",
       "      <td>'Metazoa'</td>\n",
       "      <td>'Ecdysozoa'</td>\n",
       "      <td>'Arthropoda'</td>\n",
       "      <td>'Chelicerata'</td>\n",
       "      <td>'Pycnogonida'</td>\n",
       "      <td>'Pantopoda'</td>\n",
       "      <td>'Ammotheidae'</td>\n",
       "      <td>'Ammothea']</td>\n",
       "      <td>None</td>\n",
       "      <td>...</td>\n",
       "      <td>None</td>\n",
       "      <td>None</td>\n",
       "      <td>None</td>\n",
       "      <td>None</td>\n",
       "      <td>None</td>\n",
       "      <td>None</td>\n",
       "      <td>None</td>\n",
       "      <td>None</td>\n",
       "      <td>None</td>\n",
       "      <td>None</td>\n",
       "    </tr>\n",
       "    <tr>\n",
       "      <th>4</th>\n",
       "      <td>['Eukaryota'</td>\n",
       "      <td>'Metazoa'</td>\n",
       "      <td>'Chordata'</td>\n",
       "      <td>'Craniata'</td>\n",
       "      <td>'Vertebrata'</td>\n",
       "      <td>'Euteleostomi'</td>\n",
       "      <td>'Actinopterygii'</td>\n",
       "      <td>'Neopterygii'</td>\n",
       "      <td>'Teleostei'</td>\n",
       "      <td>'Neoteleostei'</td>\n",
       "      <td>...</td>\n",
       "      <td>'Ovalentaria'</td>\n",
       "      <td>'Atherinomorphae'</td>\n",
       "      <td>'Beloniformes'</td>\n",
       "      <td>'Adrianichthyidae'</td>\n",
       "      <td>'Oryziinae'</td>\n",
       "      <td>'Oryzias']</td>\n",
       "      <td>None</td>\n",
       "      <td>None</td>\n",
       "      <td>None</td>\n",
       "      <td>None</td>\n",
       "    </tr>\n",
       "  </tbody>\n",
       "</table>\n",
       "<p>5 rows × 21 columns</p>\n",
       "</div>"
      ],
      "text/plain": [
       "             0          1            2             3              4   \\\n",
       "0  ['Eukaryota'  'Metazoa'   'Chordata'    'Craniata'   'Vertebrata'   \n",
       "1  ['Eukaryota'  'Metazoa'   'Chordata'    'Craniata'   'Vertebrata'   \n",
       "2  ['Eukaryota'  'Metazoa'   'Chordata'    'Craniata'   'Vertebrata'   \n",
       "3  ['Eukaryota'  'Metazoa'  'Ecdysozoa'  'Arthropoda'  'Chelicerata'   \n",
       "4  ['Eukaryota'  'Metazoa'   'Chordata'    'Craniata'   'Vertebrata'   \n",
       "\n",
       "               5                 6              7            8   \\\n",
       "0  'Euteleostomi'  'Actinopterygii'  'Neopterygii'  'Teleostei'   \n",
       "1  'Euteleostomi'  'Actinopterygii'  'Neopterygii'  'Teleostei'   \n",
       "2  'Euteleostomi'  'Actinopterygii'  'Neopterygii'  'Teleostei'   \n",
       "3   'Pycnogonida'       'Pantopoda'  'Ammotheidae'  'Ammothea']   \n",
       "4  'Euteleostomi'  'Actinopterygii'  'Neopterygii'  'Teleostei'   \n",
       "\n",
       "               9   ...             11                 12              13  \\\n",
       "0  'Neoteleostei'  ...  'Ovalentaria'  'Atherinomorphae'  'Beloniformes'   \n",
       "1  'Neoteleostei'  ...  'Ovalentaria'  'Atherinomorphae'  'Beloniformes'   \n",
       "2  'Neoteleostei'  ...  'Ovalentaria'  'Atherinomorphae'  'Beloniformes'   \n",
       "3            None  ...           None               None            None   \n",
       "4  'Neoteleostei'  ...  'Ovalentaria'  'Atherinomorphae'  'Beloniformes'   \n",
       "\n",
       "                   14           15          16    17    18    19    20  \n",
       "0  'Adrianichthyidae'  'Oryziinae'  'Oryzias']  None  None  None  None  \n",
       "1  'Adrianichthyidae'  'Oryziinae'  'Oryzias']  None  None  None  None  \n",
       "2  'Adrianichthyidae'  'Oryziinae'  'Oryzias']  None  None  None  None  \n",
       "3                None         None        None  None  None  None  None  \n",
       "4  'Adrianichthyidae'  'Oryziinae'  'Oryzias']  None  None  None  None  \n",
       "\n",
       "[5 rows x 21 columns]"
      ]
     },
     "execution_count": 6,
     "metadata": {},
     "output_type": "execute_result"
    }
   ],
   "source": [
    "new_df.head()"
   ]
  },
  {
   "cell_type": "code",
   "execution_count": 6,
   "metadata": {
    "scrolled": false
   },
   "outputs": [
    {
     "data": {
      "text/plain": [
       "'Metazoa'                             9585\n",
       "'Fungi'                                478\n",
       "'Viridiplantae'                        304\n",
       "'Stramenopiles'                        109\n",
       "'Rhodophyta'                            83\n",
       "'Alveolata'                             45\n",
       "'Amoebozoa'                             11\n",
       "'Cryptophyta'                            8\n",
       "'Jakobida'                               6\n",
       "'Nucleariidae and Fonticula group'       5\n",
       "'Heterolobosea'                          5\n",
       "'Glaucocystophyceae'                     4\n",
       "'Rhizaria'                               4\n",
       "'Ichthyosporea'                          2\n",
       "'Haptophyceae'                           2\n",
       "'Malawimonadidae'                        2\n",
       "'Sar'                                    1\n",
       "'Collodictyonidae'                       1\n",
       "'Euglenozoa'                             1\n",
       "'Filasterea'                             1\n",
       "'Tsukubamonadidae'                       1\n",
       "'Choanoflagellida'                       1\n",
       "'Apusozoa'                               1\n",
       "'Cryptophyceae'                          1\n",
       "Name: 1, dtype: int64"
      ]
     },
     "execution_count": 6,
     "metadata": {},
     "output_type": "execute_result"
    }
   ],
   "source": [
    "new_df[1].value_counts()"
   ]
  },
  {
   "cell_type": "code",
   "execution_count": 16,
   "metadata": {},
   "outputs": [
    {
     "data": {
      "text/plain": [
       "'Chordata'          5550\n",
       "'Ecdysozoa'         2927\n",
       "'Lophotrochozoa'     569\n",
       "'Dikarya'            449\n",
       "'Streptophyta'       228\n",
       "                    ... \n",
       "'Isochrysidales'       1\n",
       "'Cyanoptyche']         1\n",
       "'Chrysophyceae'        1\n",
       "'Ichthyophonida'       1\n",
       "'Seculamonas']         1\n",
       "Name: 2, Length: 70, dtype: int64"
      ]
     },
     "execution_count": 16,
     "metadata": {},
     "output_type": "execute_result"
    }
   ],
   "source": [
    "new_df[2].value_counts()"
   ]
  },
  {
   "cell_type": "code",
   "execution_count": 17,
   "metadata": {},
   "outputs": [],
   "source": [
    "new_df.to_csv(r'C:\\Users\\PC\\Desktop\\MitoClub\\MtDnaInvertebrate\\Body\\2Derived\\Taxonomy.csv', sep=\"\\t\")"
   ]
  },
  {
   "cell_type": "code",
   "execution_count": 8,
   "metadata": {},
   "outputs": [
    {
     "name": "stdout",
     "output_type": "stream",
     "text": [
      "type: CDS\n",
      "location: [14148:14673](-)\n",
      "qualifiers:\n",
      "    Key: codon_start, Value: ['1']\n",
      "    Key: db_xref, Value: ['GeneID:4541', 'HGNC:HGNC:7462', 'MIM:516006']\n",
      "    Key: gene, Value: ['ND6']\n",
      "    Key: gene_synonym, Value: ['MTND6']\n",
      "    Key: note, Value: ['NADH dehydrogenase, subunit 6 (complex I)']\n",
      "    Key: product, Value: ['NADH dehydrogenase subunit 6']\n",
      "    Key: protein_id, Value: ['YP_003024037.1']\n",
      "    Key: transl_table, Value: ['2']\n",
      "    Key: translation, Value: ['MMYALFLLSVGLVMGFVGFSSKPSPIYGGLVLIVSGVVGCVIILNFGGGYMGLMVFLIYLGGMMVVFGYTTAMAIEEYPEAWGSGVEVLVSVLVGLAMEVGLVLWVKEYDGVVVVVNFNSVGSWMIYEGEGSGLIREDPIGAGALYDYGRWLVVVTGWTLFVGVYIVIEIARGN']\n",
      "\n",
      "ATGATGTATGCTTTGTTTCTGTTGAGTGTGGGTTTAGTAATGGGGTTTGTGGGGTTTTCTTCTAAGCCTTCTCCTATTTATGGGGGTTTAGTATTGATTGTTAGCGGTGTGGTCGGGTGTGTTATTATTCTGAATTTTGGGGGAGGTTATATGGGTTTAATAGTTTTTTTAATTTATTTAGGGGGAATGATGGTTGTCTTTGGATATACTACAGCGATGGCTATTGAGGAGTATCCTGAGGCATGGGGGTCAGGGGTTGAGGTCTTGGTGAGTGTTTTAGTGGGGTTAGCGATGGAGGTAGGATTGGTGCTGTGGGTGAAAGAGTATGATGGGGTGGTGGTTGTGGTAAACTTTAATAGTGTAGGAAGCTGAATAATTTATGAAGGAGAGGGGTCAGGGTTGATTCGGGAGGATCCTATTGGTGCGGGGGCTTTGTATGATTATGGGCGTTGATTAGTAGTAGTTACTGGTTGAACATTGTTTGTTGGTGTATATATTGTAATTGAGATTGCTCGGGGGAATAGG\n"
     ]
    }
   ],
   "source": [
    "human = SeqIO.parse('/home/emulciber/MitoClub/mtDnaInvertebrate/Body/1Raw/sequence.gb', format='genbank')\n",
    "for seq in human:\n",
    "    for feature in seq.features:\n",
    "        if feature.type == 'CDS' and feature.strand != 1:\n",
    "            print(feature)\n",
    "            print(feature.extract(seq.seq))"
   ]
  }
 ],
 "metadata": {
  "kernelspec": {
   "display_name": "Python 3",
   "language": "python",
   "name": "python3"
  },
  "language_info": {
   "codemirror_mode": {
    "name": "ipython",
    "version": 3
   },
   "file_extension": ".py",
   "mimetype": "text/x-python",
   "name": "python",
   "nbconvert_exporter": "python",
   "pygments_lexer": "ipython3",
   "version": "3.8.8"
  }
 },
 "nbformat": 4,
 "nbformat_minor": 4
}
