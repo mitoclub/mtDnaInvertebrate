{
 "cells": [
  {
   "cell_type": "code",
   "execution_count": 5,
   "id": "stopped-joining",
   "metadata": {},
   "outputs": [],
   "source": [
    "# импортируем нужные библиотеки\n",
    "import random\n",
    "import Bio.Seq"
   ]
  },
  {
   "cell_type": "code",
   "execution_count": 16,
   "id": "complimentary-nurse",
   "metadata": {},
   "outputs": [],
   "source": [
    "# выставляем параметры\n",
    "lenght_mtDNA = 100 # базовая длина мтДНК\n",
    "quantity_mtDNA = 150 # базовое количество мтДНК в одной митохондрии\n",
    "mutations_number = 3 # количество мутаций в одной мтДНК\n",
    "dangerous_position = 89 # позиция вредной мутации"
   ]
  },
  {
   "cell_type": "code",
   "execution_count": 14,
   "id": "fancy-campaign",
   "metadata": {},
   "outputs": [
    {
     "data": {
      "text/plain": [
       "'CAATATTCGCTGCGTGTGGTAGCTTGGCTCTTTCAGTTTCCACTCTTTGCGACCACCCTTACTTACGCAAACCTCGCTAAGGATCCGAACGGGGTTTCCC'"
      ]
     },
     "execution_count": 14,
     "metadata": {},
     "output_type": "execute_result"
    }
   ],
   "source": [
    "# генерируем мтДНК\n",
    "\n",
    "def generate_mtDNA(lenght_mtDNA):\n",
    "    mtDNA = ''.join(random.choice('ATGC') for _ in range(lenght_mtDNA))\n",
    "    return mtDNA\n",
    "    \n",
    "mtDNA = generate_mtDNA(lenght_mtDNA)\n",
    "mtDNA"
   ]
  },
  {
   "cell_type": "code",
   "execution_count": 15,
   "id": "thorough-party",
   "metadata": {},
   "outputs": [
    {
     "data": {
      "text/plain": [
       "'CAATATTAGCTGCGTGTGGTAGCTTGGCTCTTTCAGTTTCCACTCTTTGCAACCACCCTTACTTACGCAAACCTCGCTAAGGATCCGAACGGGGTTTCCC'"
      ]
     },
     "execution_count": 15,
     "metadata": {},
     "output_type": "execute_result"
    }
   ],
   "source": [
    "# мутирование мтДНК\n",
    "\n",
    "def mutate_mtDNA(mutations_number):\n",
    "    mtDNA_list = [i for i in mtDNA] #перевод строки в лист т.к строки неизменяемы\n",
    "    for _ in range(mutations_number):\n",
    "        mtDNA_list[random.randrange(len(mtDNA_list))] = random.choice('ATGC') #выбираем рандомный индекс в созданном выше листе и заменяем на рандомный нуклеотид\n",
    "    return ''.join(mtDNA_list)\n",
    "\n",
    "mutated_mtDNA = mutate_mtDNA(mutations_number)\n",
    "mutated_mtDNA"
   ]
  },
  {
   "cell_type": "code",
   "execution_count": null,
   "id": "durable-stone",
   "metadata": {},
   "outputs": [],
   "source": [
    "if mutated_mtDNA[dangerous_position] == 'G':"
   ]
  },
  {
   "cell_type": "code",
   "execution_count": null,
   "id": "listed-berlin",
   "metadata": {},
   "outputs": [],
   "source": [
    "# проверка на вредную мутацию\n",
    "\n",
    "def check_mutation:\n",
    "    "
   ]
  }
 ],
 "metadata": {
  "kernelspec": {
   "display_name": "Python 3",
   "language": "python",
   "name": "python3"
  },
  "language_info": {
   "codemirror_mode": {
    "name": "ipython",
    "version": 3
   },
   "file_extension": ".py",
   "mimetype": "text/x-python",
   "name": "python",
   "nbconvert_exporter": "python",
   "pygments_lexer": "ipython3",
   "version": "3.9.1"
  }
 },
 "nbformat": 4,
 "nbformat_minor": 5
}
